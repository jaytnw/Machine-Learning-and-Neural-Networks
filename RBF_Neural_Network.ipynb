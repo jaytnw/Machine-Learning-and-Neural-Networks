{
  "nbformat": 4,
  "nbformat_minor": 0,
  "metadata": {
    "colab": {
      "provenance": []
    },
    "kernelspec": {
      "name": "python3",
      "display_name": "Python 3"
    }
  },
  "cells": [
    {
      "cell_type": "code",
      "metadata": {
        "id": "GhlUNuBZEw2k"
      },
      "source": [
        "import numpy as np\n",
        "import pandas as pd"
      ],
      "execution_count": null,
      "outputs": []
    },
    {
      "cell_type": "code",
      "metadata": {
        "id": "pvBkLxMBFaSf",
        "outputId": "f4d58e23-6fce-4755-fe2c-b28c6276b0df",
        "colab": {
          "base_uri": "https://localhost:8080/"
        }
      },
      "source": [
        "from google.colab import drive\n",
        "drive.mount(\"/content/drive\", force_remount=True)"
      ],
      "execution_count": null,
      "outputs": [
        {
          "output_type": "stream",
          "text": [
            "Mounted at /content/drive\n"
          ],
          "name": "stdout"
        }
      ]
    },
    {
      "cell_type": "code",
      "metadata": {
        "id": "R1ajJ9VGFcgY"
      },
      "source": [
        "''' Load data '''\n",
        "df = pd.read_csv(\"/content/drive/My Drive/Colab Notebooks/Machine Learning/excelData/Clustering_Example_data.csv\")\n",
        "data = np.array(df.loc[:, 'x':'y'])\n",
        "Lebel = np.array(df.loc[:, 'group'])"
      ],
      "execution_count": null,
      "outputs": []
    },
    {
      "cell_type": "markdown",
      "metadata": {
        "id": "2M9Lp5E-PpzX"
      },
      "source": [
        "# **Clustering**"
      ]
    },
    {
      "cell_type": "code",
      "metadata": {
        "id": "uI-DIYmpFusy"
      },
      "source": [
        "''' Step 0 : normalize '''\n",
        "for i in range(data.shape[1]):\n",
        "    data[:, i] = (data[:, i] - np.min(data[:, i]))/(np.max(data[:, i]) - np.min(data[:, i]))"
      ],
      "execution_count": null,
      "outputs": []
    },
    {
      "cell_type": "code",
      "metadata": {
        "id": "t68x6mzUFxzI"
      },
      "source": [
        "''' Step 1 : initial center '''\n",
        "k = 3  # number of cluster\n",
        "numP = data.shape[0]\n",
        "dimP = data.shape[1]\n",
        "# print(data.shape)\n",
        "\n",
        "center = np.zeros((k, dimP), dtype=np.float32)\n",
        "np.random.seed(3)   # Set seed number for pseudo-random\n",
        "center = np.random.randint(1, 1000, (k, dimP))/1000"
      ],
      "execution_count": null,
      "outputs": []
    },
    {
      "cell_type": "code",
      "metadata": {
        "id": "sJ7mRYXjFXwL",
        "outputId": "b8f678d2-f90b-4b89-dec5-92ed524b02d8",
        "colab": {
          "base_uri": "https://localhost:8080/"
        }
      },
      "source": [
        "''' Step 2 : clustering '''\n",
        "cluster = np.zeros(numP, dtype=np.int32)\n",
        "cluster_prev = cluster.copy()\n",
        "iterations = 0\n",
        "while True:\n",
        "    cluster = np.zeros(numP, dtype=np.int32)\n",
        "    for i in range(numP):\n",
        "        dist = np.zeros(k)\n",
        "        for j in range(k):\n",
        "            d = np.power(data[i, :] - center[j, :], 2)\n",
        "            dist[j] = np.sqrt(np.sum(d))\n",
        "\n",
        "        clusterP = np.where(dist == np.amin(dist))\n",
        "        cluster[i] = int(clusterP[0])\n",
        "\n",
        "    for i in range(k):\n",
        "        idx_cluster = np.where(cluster == i)[0]\n",
        "        if idx_cluster.size != 0:\n",
        "            center[i] = np.mean(data[idx_cluster], axis=0)\n",
        "\n",
        "    if np.array_equal(cluster_prev, cluster) or (iterations >= 100):\n",
        "        print('break in loop :', iterations)\n",
        "        break\n",
        "\n",
        "    cluster_prev = cluster.copy()\n",
        "    iterations += 1\n",
        "\n",
        "print('center : \\n', center)\n",
        "print(cluster)\n",
        "print(np.bincount(cluster))"
      ],
      "execution_count": null,
      "outputs": [
        {
          "output_type": "stream",
          "text": [
            "break in loop : 2\n",
            "center : \n",
            " [[0.75384615 0.16934337]\n",
            " [0.2        0.01669113]\n",
            " [0.86666667 0.85309092]]\n",
            "[0 2 0 0 1 1 1 1 1 1 1 0 0 0 2 1 0 0 0 1 1 1 2 0 0 0 1 0 1 1]\n",
            "[13 14  3]\n"
          ],
          "name": "stdout"
        }
      ]
    },
    {
      "cell_type": "markdown",
      "metadata": {
        "id": "oHr6jzuuHr0q"
      },
      "source": [
        "## **One hot encoding**"
      ]
    },
    {
      "cell_type": "code",
      "metadata": {
        "id": "glUatruLF6Zg"
      },
      "source": [
        "X_cluster = np.zeros((cluster.shape[0], k))\n",
        "for i, j in enumerate(cluster):\n",
        "    X_cluster[i, j] = 1\n",
        "# print(X_cluster)\n",
        "\n",
        "Y_class = np.zeros((Lebel.shape[0], 3))\n",
        "for i, j in enumerate(Lebel):\n",
        "    Y_class[i, (j-1)] = 1\n",
        "# print(Y_class)"
      ],
      "execution_count": null,
      "outputs": []
    },
    {
      "cell_type": "markdown",
      "metadata": {
        "id": "2b1bWpd-IYjR"
      },
      "source": [
        "## **Find Pseudo inverse**\n",
        "\n",
        "$A = X^{-1}\\cdot Y$"
      ]
    },
    {
      "cell_type": "code",
      "metadata": {
        "id": "upMnXbqVIb4Q",
        "outputId": "7a302d7a-26ae-4683-e2f6-7614423a5844",
        "colab": {
          "base_uri": "https://localhost:8080/"
        }
      },
      "source": [
        "X_inv = np.dot(np.linalg.inv(np.dot(X_cluster.T, X_cluster)), X_cluster.T)    # find pseudo inverse\n",
        "A = X_inv.dot(Y_class)\n",
        "A"
      ],
      "execution_count": null,
      "outputs": [
        {
          "output_type": "execute_result",
          "data": {
            "text/plain": [
              "array([[0.23076923, 0.46153846, 0.30769231],\n",
              "       [0.42857143, 0.21428571, 0.35714286],\n",
              "       [0.33333333, 0.33333333, 0.33333333]])"
            ]
          },
          "metadata": {
            "tags": []
          },
          "execution_count": 106
        }
      ]
    },
    {
      "cell_type": "markdown",
      "metadata": {
        "id": "O_steMGxKf7m"
      },
      "source": [
        "# **Test new Data**"
      ]
    },
    {
      "cell_type": "code",
      "metadata": {
        "id": "26Jyj_thKeKv",
        "outputId": "bfbbc58d-897b-4f9d-c8c0-82d4da652050",
        "colab": {
          "base_uri": "https://localhost:8080/"
        }
      },
      "source": [
        "data = np.array(df.loc[:, 'x':'y'])\n",
        "X = np.array([[4, 35]], dtype=np.float32)\n",
        "\n",
        "# Normalize\n",
        "for i in range(X.shape[1]):\n",
        "    X[:, i] = (X[:, i] - np.min(data[:, i]))/(np.max(data[:, i]) - np.min(data[:, i]))\n",
        "print(X)\n",
        "print(center)"
      ],
      "execution_count": null,
      "outputs": [
        {
          "output_type": "stream",
          "text": [
            "[[0.6        0.04775931]]\n",
            "[[0.75384615 0.16934337]\n",
            " [0.2        0.01669113]\n",
            " [0.86666667 0.85309092]]\n"
          ],
          "name": "stdout"
        }
      ]
    },
    {
      "cell_type": "markdown",
      "metadata": {
        "id": "BhJODHXPK8p_"
      },
      "source": [
        "**K-mean Clustering**"
      ]
    },
    {
      "cell_type": "code",
      "metadata": {
        "id": "XdLwH65lKPkZ",
        "outputId": "2ecfe08a-8489-45eb-bbc3-dc8916e9b398",
        "colab": {
          "base_uri": "https://localhost:8080/"
        }
      },
      "source": [
        "dist = np.zeros(k)\n",
        "for j in range(k):\n",
        "    d = np.power(X - center[j, :], 2)\n",
        "    dist[j] = np.sqrt(np.sum(d))\n",
        "\n",
        "clusterP = np.where(dist == np.amin(dist))\n",
        "Xcluster = int(clusterP[0])\n",
        "Xcluster"
      ],
      "execution_count": null,
      "outputs": [
        {
          "output_type": "execute_result",
          "data": {
            "text/plain": [
              "0"
            ]
          },
          "metadata": {
            "tags": []
          },
          "execution_count": 101
        }
      ]
    },
    {
      "cell_type": "markdown",
      "metadata": {
        "id": "A8px_5BfNw8I"
      },
      "source": [
        "**One hot encoding**"
      ]
    },
    {
      "cell_type": "code",
      "metadata": {
        "id": "yDEfCupvNvux",
        "outputId": "9ac327bd-46e2-44d3-8a34-4f7439b0bb96",
        "colab": {
          "base_uri": "https://localhost:8080/"
        }
      },
      "source": [
        "X_cluster = np.zeros((X.shape[0], k))\n",
        "for i, j in enumerate([Xcluster]):\n",
        "    X_cluster[i, j] = 1\n",
        "X_cluster"
      ],
      "execution_count": null,
      "outputs": [
        {
          "output_type": "execute_result",
          "data": {
            "text/plain": [
              "array([[1., 0., 0.]])"
            ]
          },
          "metadata": {
            "tags": []
          },
          "execution_count": 102
        }
      ]
    },
    {
      "cell_type": "markdown",
      "metadata": {
        "id": "GTD38lm5N4Pm"
      },
      "source": [
        "**Predict**"
      ]
    },
    {
      "cell_type": "code",
      "metadata": {
        "id": "75931H-oOgsm",
        "outputId": "c1eb8ad8-40bd-4bd1-9659-76ad3d723754",
        "colab": {
          "base_uri": "https://localhost:8080/"
        }
      },
      "source": [
        "A"
      ],
      "execution_count": null,
      "outputs": [
        {
          "output_type": "execute_result",
          "data": {
            "text/plain": [
              "array([[0.23076923, 0.46153846, 0.30769231],\n",
              "       [0.42857143, 0.21428571, 0.35714286],\n",
              "       [0.33333333, 0.33333333, 0.33333333]])"
            ]
          },
          "metadata": {
            "tags": []
          },
          "execution_count": 107
        }
      ]
    },
    {
      "cell_type": "code",
      "metadata": {
        "id": "N2OBTAt0Nye3",
        "outputId": "9f33ead5-214e-41fa-ad01-3af3ed27d677",
        "colab": {
          "base_uri": "https://localhost:8080/"
        }
      },
      "source": [
        "y_predict = X_cluster.dot(A)\n",
        "\n",
        "Y_cluster = np.zeros((X.shape[0], k))\n",
        "for i, j in enumerate(np.where(np.max(y_predict))):\n",
        "    Y_cluster[i, j] = 1\n",
        "Y_cluster"
      ],
      "execution_count": null,
      "outputs": [
        {
          "output_type": "execute_result",
          "data": {
            "text/plain": [
              "array([[1., 0., 0.]])"
            ]
          },
          "metadata": {
            "tags": []
          },
          "execution_count": 108
        }
      ]
    }
  ]
}