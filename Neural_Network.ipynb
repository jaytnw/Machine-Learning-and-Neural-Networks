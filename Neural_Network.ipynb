{
  "nbformat": 4,
  "nbformat_minor": 0,
  "metadata": {
    "colab": {
      "provenance": []
    },
    "kernelspec": {
      "name": "python3",
      "display_name": "Python 3"
    },
    "language_info": {
      "name": "python"
    },
    "accelerator": "GPU"
  },
  "cells": [
    {
      "cell_type": "code",
      "metadata": {
        "id": "anDXCWI36dHH"
      },
      "source": [
        "import math\n",
        "import random\n",
        "import string"
      ],
      "execution_count": null,
      "outputs": []
    },
    {
      "cell_type": "code",
      "metadata": {
        "id": "3Qgp4xyA6jzh"
      },
      "source": [
        "random.seed(0)"
      ],
      "execution_count": null,
      "outputs": []
    },
    {
      "cell_type": "code",
      "metadata": {
        "id": "dOm_lN_N6mHS"
      },
      "source": [
        "# calculate a random number where:  a <= rand < b\n",
        "def rand(a, b):\n",
        "    return (b-a)*random.random() + a"
      ],
      "execution_count": null,
      "outputs": []
    },
    {
      "cell_type": "code",
      "metadata": {
        "id": "RW-ivZzt6nNy"
      },
      "source": [
        "# Make a matrix (we could use NumPy to speed this up)\n",
        "def makeMatrix(I, J, fill=0.0):\n",
        "    m = []\n",
        "    for i in range(I):\n",
        "        m.append([fill]*J)\n",
        "    return m"
      ],
      "execution_count": null,
      "outputs": []
    },
    {
      "cell_type": "code",
      "metadata": {
        "id": "ka1RnPAv6rud"
      },
      "source": [
        "# our sigmoid function, tanh is a little nicer than the standard 1/(1+e^-x)\n",
        "def sigmoid(x):\n",
        "    return math.tanh(x)"
      ],
      "execution_count": null,
      "outputs": []
    },
    {
      "cell_type": "code",
      "metadata": {
        "id": "eVE9tRME62Lj"
      },
      "source": [
        "# derivative of our sigmoid function, in terms of the output (i.e. y)\n",
        "def dsigmoid(y):\n",
        "    return 1.0 - y**2"
      ],
      "execution_count": null,
      "outputs": []
    },
    {
      "cell_type": "code",
      "metadata": {
        "colab": {
          "base_uri": "https://localhost:8080/"
        },
        "id": "zIfwAZoJ5KIL",
        "outputId": "4b75fb6c-0f22-4453-9028-56d1571034b1"
      },
      "source": [
        "class neual_network:\n",
        "    def __init__(self, ni, nh, no):\n",
        "        # number of input, hidden, and output nodes\n",
        "        self.ni = ni + 1 # +1 for bias node\n",
        "        self.nh = nh\n",
        "        self.no = no\n",
        "\n",
        "        # activations for nodes\n",
        "        self.ai = [1.0]*self.ni\n",
        "        self.ah = [1.0]*self.nh\n",
        "        self.ao = [1.0]*self.no\n",
        "\n",
        "        # create weights\n",
        "        self.wi = makeMatrix(self.ni, self.nh)\n",
        "        self.wo = makeMatrix(self.nh, self.no)\n",
        "        # set them to random vaules\n",
        "        for i in range(self.ni):\n",
        "            for j in range(self.nh):\n",
        "                self.wi[i][j] = rand(-0.2, 0.2)\n",
        "        for j in range(self.nh):\n",
        "            for k in range(self.no):\n",
        "                self.wo[j][k] = rand(-2.0, 2.0)\n",
        "\n",
        "        # last change in weights for momentum\n",
        "        self.ci = makeMatrix(self.ni, self.nh)\n",
        "        self.co = makeMatrix(self.nh, self.no)\n",
        "\n",
        "    def update(self, inputs):\n",
        "        if len(inputs) != self.ni-1:\n",
        "            raise ValueError('wrong number of inputs')\n",
        "\n",
        "        # input activations\n",
        "        for i in range(self.ni-1):\n",
        "            #self.ai[i] = sigmoid(inputs[i])\n",
        "            self.ai[i] = inputs[i]\n",
        "\n",
        "        # hidden activations\n",
        "        for j in range(self.nh):\n",
        "            sum = 0.0\n",
        "            for i in range(self.ni):\n",
        "                sum = sum + self.ai[i] * self.wi[i][j]\n",
        "            self.ah[j] = sigmoid(sum)\n",
        "\n",
        "        # output activations\n",
        "        for k in range(self.no):\n",
        "            sum = 0.0\n",
        "            for j in range(self.nh):\n",
        "                sum = sum + self.ah[j] * self.wo[j][k]\n",
        "            self.ao[k] = sigmoid(sum)\n",
        "\n",
        "        return self.ao[:]\n",
        "\n",
        "\n",
        "    def backPropagate(self, targets, N, M):\n",
        "        if len(targets) != self.no:\n",
        "            raise ValueError('wrong number of target values')\n",
        "\n",
        "        # calculate error terms for output\n",
        "        output_deltas = [0.0] * self.no\n",
        "        for k in range(self.no):\n",
        "            error = targets[k]-self.ao[k]\n",
        "            output_deltas[k] = dsigmoid(self.ao[k]) * error\n",
        "\n",
        "        # calculate error terms for hidden\n",
        "        hidden_deltas = [0.0] * self.nh\n",
        "        for j in range(self.nh):\n",
        "            error = 0.0\n",
        "            for k in range(self.no):\n",
        "                error = error + output_deltas[k]*self.wo[j][k]\n",
        "            hidden_deltas[j] = dsigmoid(self.ah[j]) * error\n",
        "\n",
        "        # update output weights\n",
        "        for j in range(self.nh):\n",
        "            for k in range(self.no):\n",
        "                change = output_deltas[k]*self.ah[j]\n",
        "                self.wo[j][k] = self.wo[j][k] + N*change + M*self.co[j][k]\n",
        "                self.co[j][k] = change\n",
        "                #print N*change, M*self.co[j][k]\n",
        "\n",
        "        # update input weights\n",
        "        for i in range(self.ni):\n",
        "            for j in range(self.nh):\n",
        "                change = hidden_deltas[j]*self.ai[i]\n",
        "                self.wi[i][j] = self.wi[i][j] + N*change + M*self.ci[i][j]\n",
        "                self.ci[i][j] = change\n",
        "\n",
        "        # calculate error\n",
        "        error = 0.0\n",
        "        for k in range(len(targets)):\n",
        "            error = error + 0.5*(targets[k]-self.ao[k])**2\n",
        "        return error\n",
        "\n",
        "\n",
        "    def test(self, patterns):\n",
        "        for p in patterns:\n",
        "            print(p[0], '->', self.update(p[0]))\n",
        "\n",
        "    def weights(self):\n",
        "        print('Input weights:')\n",
        "        for i in range(self.ni):\n",
        "            print(self.wi[i])\n",
        "        print()\n",
        "        print('Output weights:')\n",
        "        for j in range(self.nh):\n",
        "            print(self.wo[j])\n",
        "\n",
        "    def train(self, patterns, iterations=1000, N=0.5, M=0.1):\n",
        "        # N: learning rate\n",
        "        # M: momentum factor\n",
        "        for i in range(iterations):\n",
        "            error = 0.0\n",
        "            for p in patterns:\n",
        "                inputs = p[0]\n",
        "                targets = p[1]\n",
        "                self.update(inputs)\n",
        "                error = error + self.backPropagate(targets, N, M)\n",
        "            if i % 100 == 0:\n",
        "                print('error %-.5f' % error)\n",
        "\n",
        "\n",
        "def demo():\n",
        "    # Teach network XOR function\n",
        "    pat = [\n",
        "        [[0,0], [0]],\n",
        "        [[0,1], [1]],\n",
        "        [[1,0], [1]],\n",
        "        [[1,1], [0]]\n",
        "    ]\n",
        "\n",
        "    # create a network with two input, two hidden, and one output nodes\n",
        "    n = neual_network(2, 5, 1)\n",
        "    # train it with some patterns\n",
        "    n.train(pat)\n",
        "    # test it\n",
        "    n.test(pat)\n",
        "\n",
        "\n",
        "\n",
        "if __name__ == '__main__':\n",
        "    demo()"
      ],
      "execution_count": null,
      "outputs": [
        {
          "output_type": "stream",
          "text": [
            "error 0.59150\n",
            "error 0.99935\n",
            "error 0.99242\n",
            "error 0.49378\n",
            "error 0.11666\n",
            "error 0.14320\n",
            "error 0.12665\n",
            "error 0.14782\n",
            "error 0.12115\n",
            "error 0.07175\n",
            "[0, 0] -> [0.1799152796650233]\n",
            "[0, 1] -> [0.9505911267934498]\n",
            "[1, 0] -> [0.9620565456504709]\n",
            "[1, 1] -> [-0.22355140028738452]\n"
          ],
          "name": "stdout"
        }
      ]
    },
    {
      "cell_type": "code",
      "metadata": {
        "id": "ojH1FUxv6tHe"
      },
      "source": [],
      "execution_count": null,
      "outputs": []
    },
    {
      "cell_type": "code",
      "metadata": {
        "id": "Xurmf29K60IB"
      },
      "source": [],
      "execution_count": null,
      "outputs": []
    },
    {
      "cell_type": "code",
      "metadata": {
        "id": "PDpQEQGm6qY0"
      },
      "source": [],
      "execution_count": null,
      "outputs": []
    },
    {
      "cell_type": "code",
      "metadata": {
        "id": "Z5Perb-q6qZl"
      },
      "source": [],
      "execution_count": null,
      "outputs": []
    },
    {
      "cell_type": "code",
      "metadata": {
        "id": "vqVHQwu96qbt"
      },
      "source": [],
      "execution_count": null,
      "outputs": []
    },
    {
      "cell_type": "code",
      "metadata": {
        "id": "vP2s2U826qe8"
      },
      "source": [],
      "execution_count": null,
      "outputs": []
    }
  ]
}