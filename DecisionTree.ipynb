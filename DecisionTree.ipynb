{
  "nbformat": 4,
  "nbformat_minor": 0,
  "metadata": {
    "colab": {
      "provenance": []
    },
    "kernelspec": {
      "name": "python3",
      "display_name": "Python 3"
    }
  },
  "cells": [
    {
      "cell_type": "code",
      "metadata": {
        "id": "CdRW-z2moCDl"
      },
      "source": [
        "from sklearn import tree\n"
      ],
      "execution_count": null,
      "outputs": []
    },
    {
      "cell_type": "code",
      "metadata": {
        "id": "xpV21KVlrjXZ"
      },
      "source": [
        "train_data = [[4,0,0,1],[4,1,1,1],[4,1,1,0],[4,0,0,0],[2,1,1,0],[2,1,1,0],[2,1,0,0],[2,0,0,0],[2,0,1,0],[2,0,0,1]]\n",
        "train_lable = ['วัว','วัว','สุนัข','สุนัข','นก','นก','เป็ด','เป็ด','มนุษย์','มนุษย์']"
      ],
      "execution_count": null,
      "outputs": []
    },
    {
      "cell_type": "code",
      "metadata": {
        "id": "nBJ5eIhgrnzS"
      },
      "source": [
        "model = tree.DecisionTreeClassifier()\n",
        "model = model.fit(train_data,train_lable)"
      ],
      "execution_count": null,
      "outputs": []
    },
    {
      "cell_type": "code",
      "metadata": {
        "id": "ai1Pq18puxqA",
        "outputId": "c6e73807-34fc-419c-e164-9b5a923905e1",
        "colab": {
          "base_uri": "https://localhost:8080/"
        }
      },
      "source": [
        "newanimal = [[4,0,0,1],[2,1,1,0]]\n",
        "testPredic = model.predict(newanimal)\n",
        "print(testPredic)"
      ],
      "execution_count": null,
      "outputs": [
        {
          "output_type": "stream",
          "text": [
            "['วัว' 'นก']\n"
          ],
          "name": "stdout"
        }
      ]
    },
    {
      "cell_type": "code",
      "metadata": {
        "id": "MRxe4woZvGZZ",
        "outputId": "ab2f9158-21c2-4251-945c-614ca8028278",
        "colab": {
          "base_uri": "https://localhost:8080/",
          "height": 435
        }
      },
      "source": [
        "tree.plot_tree(model)"
      ],
      "execution_count": null,
      "outputs": [
        {
          "output_type": "execute_result",
          "data": {
            "text/plain": [
              "[Text(197.83636363636364, 190.26, 'X[0] <= 3.0\\ngini = 0.8\\nsamples = 10\\nvalue = [2, 2, 2, 2, 2]'),\n",
              " Text(121.74545454545455, 135.9, 'X[2] <= 0.5\\ngini = 0.667\\nsamples = 6\\nvalue = [2, 2, 0, 0, 2]'),\n",
              " Text(60.872727272727275, 81.53999999999999, 'X[3] <= 0.5\\ngini = 0.444\\nsamples = 3\\nvalue = [0, 1, 0, 0, 2]'),\n",
              " Text(30.436363636363637, 27.180000000000007, 'gini = 0.0\\nsamples = 2\\nvalue = [0, 0, 0, 0, 2]'),\n",
              " Text(91.30909090909091, 27.180000000000007, 'gini = 0.0\\nsamples = 1\\nvalue = [0, 1, 0, 0, 0]'),\n",
              " Text(182.61818181818182, 81.53999999999999, 'X[1] <= 0.5\\ngini = 0.444\\nsamples = 3\\nvalue = [2, 1, 0, 0, 0]'),\n",
              " Text(152.1818181818182, 27.180000000000007, 'gini = 0.0\\nsamples = 1\\nvalue = [0, 1, 0, 0, 0]'),\n",
              " Text(213.05454545454546, 27.180000000000007, 'gini = 0.0\\nsamples = 2\\nvalue = [2, 0, 0, 0, 0]'),\n",
              " Text(273.92727272727274, 135.9, 'X[3] <= 0.5\\ngini = 0.5\\nsamples = 4\\nvalue = [0, 0, 2, 2, 0]'),\n",
              " Text(243.4909090909091, 81.53999999999999, 'gini = 0.0\\nsamples = 2\\nvalue = [0, 0, 0, 2, 0]'),\n",
              " Text(304.3636363636364, 81.53999999999999, 'gini = 0.0\\nsamples = 2\\nvalue = [0, 0, 2, 0, 0]')]"
            ]
          },
          "metadata": {
            "tags": []
          },
          "execution_count": 20
        },
        {
          "output_type": "display_data",
          "data": {
            "image/png": "[encoded data removed]",
            "text/plain": [
              "<Figure size 432x288 with 1 Axes>"
            ]
          },
          "metadata": {
            "tags": [],
            "needs_background": "light"
          }
        }
      ]
    }
  ]
}