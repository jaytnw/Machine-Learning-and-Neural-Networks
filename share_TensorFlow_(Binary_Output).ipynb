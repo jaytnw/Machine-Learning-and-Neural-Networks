{
  "nbformat": 4,
  "nbformat_minor": 0,
  "metadata": {
    "colab": {
      "provenance": []
    },
    "kernelspec": {
      "name": "python3",
      "display_name": "Python 3"
    },
    "language_info": {
      "name": "python"
    },
    "accelerator": "GPU"
  },
  "cells": [
    {
      "cell_type": "code",
      "metadata": {
        "colab": {
          "base_uri": "https://localhost:8080/"
        },
        "id": "LylsM4r3LpnP",
        "outputId": "59246a9d-8f29-47b4-ec5b-f61ebd85b86e"
      },
      "source": [
        "pip install -upgrade tensorflow\n"
      ],
      "execution_count": null,
      "outputs": [
        {
          "output_type": "stream",
          "text": [
            "\n",
            "Usage:   \n",
            "  pip3 install [options] <requirement specifier> [package-index-options] ...\n",
            "  pip3 install [options] -r <requirements file> [package-index-options] ...\n",
            "  pip3 install [options] [-e] <vcs project url> ...\n",
            "  pip3 install [options] [-e] <local project path> ...\n",
            "  pip3 install [options] <archive url/path> ...\n",
            "\n",
            "no such option: -u\n"
          ],
          "name": "stdout"
        }
      ]
    },
    {
      "cell_type": "code",
      "metadata": {
        "colab": {
          "base_uri": "https://localhost:8080/"
        },
        "id": "-DL5bAQ5MHWA",
        "outputId": "d08a76d2-aaad-4666-d5f6-e2ea34346210"
      },
      "source": [
        "import tensorflow as tf\n",
        "print(tf.__version__)"
      ],
      "execution_count": null,
      "outputs": [
        {
          "output_type": "stream",
          "text": [
            "2.4.1\n"
          ],
          "name": "stdout"
        }
      ]
    },
    {
      "cell_type": "code",
      "metadata": {
        "id": "paAZyFu2MwvV"
      },
      "source": [
        "import seaborn as sns\n",
        "import pandas as pd\n",
        "import numpy as np\n",
        "\n",
        "from tensorflow.keras.layers import Dense, Dropout, Activation\n",
        "from tensorflow.keras.models import Model, Sequential\n",
        "from tensorflow.keras.optimizers import Adam\n"
      ],
      "execution_count": null,
      "outputs": []
    },
    {
      "cell_type": "code",
      "metadata": {
        "id": "Pcy068WMM-W7"
      },
      "source": [
        "banknote_data = pd.read_csv(\"https://raw.githubusercontent.com/AbhiRoy96/Banknote-Authentication-UCI-Dataset/master/bank_notes.csv\")"
      ],
      "execution_count": null,
      "outputs": []
    },
    {
      "cell_type": "code",
      "metadata": {
        "colab": {
          "base_uri": "https://localhost:8080/",
          "height": 204
        },
        "id": "qWLLn5h7NNvq",
        "outputId": "e9be2b1e-eba3-4cd4-dd40-876e3b23ede6"
      },
      "source": [
        "banknote_data.head()"
      ],
      "execution_count": null,
      "outputs": [
        {
          "output_type": "execute_result",
          "data": {
            "text/html": [
              "<div>\n",
              "<style scoped>\n",
              "    .dataframe tbody tr th:only-of-type {\n",
              "        vertical-align: middle;\n",
              "    }\n",
              "\n",
              "    .dataframe tbody tr th {\n",
              "        vertical-align: top;\n",
              "    }\n",
              "\n",
              "    .dataframe thead th {\n",
              "        text-align: right;\n",
              "    }\n",
              "</style>\n",
              "<table border=\"1\" class=\"dataframe\">\n",
              "  <thead>\n",
              "    <tr style=\"text-align: right;\">\n",
              "      <th></th>\n",
              "      <th>variance</th>\n",
              "      <th>skewness</th>\n",
              "      <th>curtosis</th>\n",
              "      <th>entropy</th>\n",
              "      <th>Target</th>\n",
              "    </tr>\n",
              "  </thead>\n",
              "  <tbody>\n",
              "    <tr>\n",
              "      <th>0</th>\n",
              "      <td>3.62160</td>\n",
              "      <td>8.6661</td>\n",
              "      <td>-2.8073</td>\n",
              "      <td>-0.44699</td>\n",
              "      <td>0</td>\n",
              "    </tr>\n",
              "    <tr>\n",
              "      <th>1</th>\n",
              "      <td>4.54590</td>\n",
              "      <td>8.1674</td>\n",
              "      <td>-2.4586</td>\n",
              "      <td>-1.46210</td>\n",
              "      <td>0</td>\n",
              "    </tr>\n",
              "    <tr>\n",
              "      <th>2</th>\n",
              "      <td>3.86600</td>\n",
              "      <td>-2.6383</td>\n",
              "      <td>1.9242</td>\n",
              "      <td>0.10645</td>\n",
              "      <td>0</td>\n",
              "    </tr>\n",
              "    <tr>\n",
              "      <th>3</th>\n",
              "      <td>3.45660</td>\n",
              "      <td>9.5228</td>\n",
              "      <td>-4.0112</td>\n",
              "      <td>-3.59440</td>\n",
              "      <td>0</td>\n",
              "    </tr>\n",
              "    <tr>\n",
              "      <th>4</th>\n",
              "      <td>0.32924</td>\n",
              "      <td>-4.4552</td>\n",
              "      <td>4.5718</td>\n",
              "      <td>-0.98880</td>\n",
              "      <td>0</td>\n",
              "    </tr>\n",
              "  </tbody>\n",
              "</table>\n",
              "</div>"
            ],
            "text/plain": [
              "   variance  skewness  curtosis  entropy  Target\n",
              "0   3.62160    8.6661   -2.8073 -0.44699       0\n",
              "1   4.54590    8.1674   -2.4586 -1.46210       0\n",
              "2   3.86600   -2.6383    1.9242  0.10645       0\n",
              "3   3.45660    9.5228   -4.0112 -3.59440       0\n",
              "4   0.32924   -4.4552    4.5718 -0.98880       0"
            ]
          },
          "metadata": {
            "tags": []
          },
          "execution_count": 5
        }
      ]
    },
    {
      "cell_type": "code",
      "metadata": {
        "colab": {
          "base_uri": "https://localhost:8080/"
        },
        "id": "2-ZMLwa1NUbY",
        "outputId": "cb839ca6-7cc5-4986-9e14-9aff9f592fa7"
      },
      "source": [
        "banknote_data.shape"
      ],
      "execution_count": null,
      "outputs": [
        {
          "output_type": "execute_result",
          "data": {
            "text/plain": [
              "(1372, 5)"
            ]
          },
          "metadata": {
            "tags": []
          },
          "execution_count": 6
        }
      ]
    },
    {
      "cell_type": "code",
      "metadata": {
        "colab": {
          "base_uri": "https://localhost:8080/",
          "height": 300
        },
        "id": "e9DhstAsN1mC",
        "outputId": "c689b9dd-f755-42e4-c831-d6098f26d48e"
      },
      "source": [
        "sns.countplot(x='Target', data=banknote_data)"
      ],
      "execution_count": null,
      "outputs": [
        {
          "output_type": "execute_result",
          "data": {
            "text/plain": [
              "<matplotlib.axes._subplots.AxesSubplot at 0x7fcf1a762790>"
            ]
          },
          "metadata": {
            "tags": []
          },
          "execution_count": 7
        },
        {
          "output_type": "display_data",
          "data": {
            "image/png": "[encoded data removed]",
            "text/plain": [
              "<Figure size 432x288 with 1 Axes>"
            ]
          },
          "metadata": {
            "tags": [],
            "needs_background": "light"
          }
        }
      ]
    },
    {
      "cell_type": "code",
      "metadata": {
        "colab": {
          "base_uri": "https://localhost:8080/"
        },
        "id": "-3COex7_OKZ7",
        "outputId": "145630c1-0ea8-48ba-aa1f-e594dcd32692"
      },
      "source": [
        "X = banknote_data.drop(['Target'], axis=1).values\n",
        "y = banknote_data[['Target']].values\n",
        "\n",
        "print(X.shape)\n",
        "print(y.shape)"
      ],
      "execution_count": null,
      "outputs": [
        {
          "output_type": "stream",
          "text": [
            "(1372, 4)\n",
            "(1372, 1)\n"
          ],
          "name": "stdout"
        }
      ]
    },
    {
      "cell_type": "code",
      "metadata": {
        "id": "XpgHAFJoOqCJ"
      },
      "source": [
        "from sklearn.model_selection import train_test_split\n",
        "X_train, X_test, y_train, y_test = train_test_split(X, y, test_size=0.20, random_state=42)"
      ],
      "execution_count": null,
      "outputs": []
    },
    {
      "cell_type": "code",
      "metadata": {
        "id": "K7iSjOvsPmqC"
      },
      "source": [
        "from sklearn.preprocessing import StandardScaler\n",
        "sc = StandardScaler()\n",
        "X_train = sc.fit_transform(X_train)\n",
        "X_test = sc.transform(X_test)"
      ],
      "execution_count": null,
      "outputs": []
    },
    {
      "cell_type": "code",
      "metadata": {
        "id": "SNuLOgSdP_Rd"
      },
      "source": [
        "def create_model(learning_rate, dropout_rate):\n",
        "\n",
        "    model = Sequential()\n",
        "    model.add(Dense(12, input_dim=X_train.shape[1],  activation='relu'))\n",
        "    model.add(Dropout(dropout_rate))\n",
        "    model.add(Dense(6,  activation='relu'))\n",
        "    model.add(Dropout(dropout_rate))\n",
        "    model.add(Dense(1, activation='sigmoid'))\n",
        "\n",
        "    adam = Adam(lr=learning_rate)\n",
        "    model.compile(loss='binary_crossentropy', optimizer=adam, metrics=['accuracy'])\n",
        "    return model"
      ],
      "execution_count": null,
      "outputs": []
    },
    {
      "cell_type": "code",
      "metadata": {
        "id": "Y-lFVfBgSn9e"
      },
      "source": [
        "dropout_rate = 0.1\n",
        "epochs = 20\n",
        "batch_size = 4\n",
        "learn_rate = 0.001"
      ],
      "execution_count": null,
      "outputs": []
    },
    {
      "cell_type": "code",
      "metadata": {
        "id": "kEKthV-ATWfB"
      },
      "source": [
        "model = create_model(learn_rate, dropout_rate)"
      ],
      "execution_count": null,
      "outputs": []
    },
    {
      "cell_type": "code",
      "metadata": {
        "colab": {
          "base_uri": "https://localhost:8080/",
          "height": 644
        },
        "id": "Ljr2RFDDTgXj",
        "outputId": "342658f2-f1b8-4650-aeec-546d42588d8d"
      },
      "source": [
        "from tensorflow.keras.utils import plot_model\n",
        "plot_model(model, to_file='model_plot1.png', show_shapes=True, show_layer_names=True)"
      ],
      "execution_count": null,
      "outputs": [
        {
          "output_type": "execute_result",
          "data": {
            "image/png": "[encoded data removed]",
            "text/plain": [
              "<IPython.core.display.Image object>"
            ]
          },
          "metadata": {
            "tags": []
          },
          "execution_count": 16
        }
      ]
    },
    {
      "cell_type": "code",
      "metadata": {
        "colab": {
          "base_uri": "https://localhost:8080/"
        },
        "id": "4tibHB_HVxcB",
        "outputId": "0ececf62-6909-4508-8cc8-d8927589ead9"
      },
      "source": [
        "model_history = model.fit(X_train, y_train, batch_size=batch_size, epochs=epochs, validation_split=0.2, verbose=1)"
      ],
      "execution_count": null,
      "outputs": [
        {
          "output_type": "stream",
          "text": [
            "Epoch 1/20\n",
            "220/220 [==============================] - 4s 4ms/step - loss: 0.6606 - accuracy: 0.7161 - val_loss: 0.4674 - val_accuracy: 0.9318\n",
            "Epoch 2/20\n",
            "220/220 [==============================] - 1s 3ms/step - loss: 0.4113 - accuracy: 0.8977 - val_loss: 0.2257 - val_accuracy: 0.9545\n",
            "Epoch 3/20\n",
            "220/220 [==============================] - 1s 3ms/step - loss: 0.2275 - accuracy: 0.9247 - val_loss: 0.1136 - val_accuracy: 0.9773\n",
            "Epoch 4/20\n",
            "220/220 [==============================] - 1s 3ms/step - loss: 0.1502 - accuracy: 0.9570 - val_loss: 0.0684 - val_accuracy: 0.9864\n",
            "Epoch 5/20\n",
            "220/220 [==============================] - 1s 3ms/step - loss: 0.0986 - accuracy: 0.9659 - val_loss: 0.0463 - val_accuracy: 0.9955\n",
            "Epoch 6/20\n",
            "220/220 [==============================] - 1s 3ms/step - loss: 0.0808 - accuracy: 0.9760 - val_loss: 0.0347 - val_accuracy: 0.9955\n",
            "Epoch 7/20\n",
            "220/220 [==============================] - 1s 3ms/step - loss: 0.0559 - accuracy: 0.9813 - val_loss: 0.0264 - val_accuracy: 0.9955\n",
            "Epoch 8/20\n",
            "220/220 [==============================] - 1s 3ms/step - loss: 0.0429 - accuracy: 0.9871 - val_loss: 0.0221 - val_accuracy: 0.9955\n",
            "Epoch 9/20\n",
            "220/220 [==============================] - 1s 3ms/step - loss: 0.0336 - accuracy: 0.9964 - val_loss: 0.0187 - val_accuracy: 0.9955\n",
            "Epoch 10/20\n",
            "220/220 [==============================] - 1s 3ms/step - loss: 0.0516 - accuracy: 0.9816 - val_loss: 0.0145 - val_accuracy: 0.9955\n",
            "Epoch 11/20\n",
            "220/220 [==============================] - 1s 3ms/step - loss: 0.0425 - accuracy: 0.9950 - val_loss: 0.0122 - val_accuracy: 0.9955\n",
            "Epoch 12/20\n",
            "220/220 [==============================] - 1s 3ms/step - loss: 0.0374 - accuracy: 0.9863 - val_loss: 0.0098 - val_accuracy: 0.9955\n",
            "Epoch 13/20\n",
            "220/220 [==============================] - 1s 3ms/step - loss: 0.0423 - accuracy: 0.9848 - val_loss: 0.0087 - val_accuracy: 1.0000\n",
            "Epoch 14/20\n",
            "220/220 [==============================] - 1s 3ms/step - loss: 0.0193 - accuracy: 0.9945 - val_loss: 0.0072 - val_accuracy: 1.0000\n",
            "Epoch 15/20\n",
            "220/220 [==============================] - 1s 3ms/step - loss: 0.0277 - accuracy: 0.9944 - val_loss: 0.0060 - val_accuracy: 1.0000\n",
            "Epoch 16/20\n",
            "220/220 [==============================] - 1s 3ms/step - loss: 0.0256 - accuracy: 0.9918 - val_loss: 0.0055 - val_accuracy: 1.0000\n",
            "Epoch 17/20\n",
            "220/220 [==============================] - 1s 3ms/step - loss: 0.0212 - accuracy: 0.9986 - val_loss: 0.0052 - val_accuracy: 1.0000\n",
            "Epoch 18/20\n",
            "220/220 [==============================] - 1s 3ms/step - loss: 0.0173 - accuracy: 0.9969 - val_loss: 0.0041 - val_accuracy: 1.0000\n",
            "Epoch 19/20\n",
            "220/220 [==============================] - 1s 3ms/step - loss: 0.0214 - accuracy: 0.9954 - val_loss: 0.0052 - val_accuracy: 1.0000\n",
            "Epoch 20/20\n",
            "220/220 [==============================] - 1s 3ms/step - loss: 0.0328 - accuracy: 0.9911 - val_loss: 0.0037 - val_accuracy: 1.0000\n"
          ],
          "name": "stdout"
        }
      ]
    },
    {
      "cell_type": "code",
      "metadata": {
        "colab": {
          "base_uri": "https://localhost:8080/"
        },
        "id": "8mvReD5JV3-u",
        "outputId": "67f941dd-9fdc-43fc-a3fe-33d9d4844b12"
      },
      "source": [
        "accuracies = model.evaluate(X_test, y_test, verbose=1)\n",
        "\n",
        "print(\"Test Score:\", accuracies[0])\n",
        "print(\"Test Accuracy:\", accuracies[1])"
      ],
      "execution_count": null,
      "outputs": [
        {
          "output_type": "stream",
          "text": [
            "9/9 [==============================] - 0s 2ms/step - loss: 0.0080 - accuracy: 1.0000\n",
            "Test Score: 0.008020278066396713\n",
            "Test Accuracy: 1.0\n"
          ],
          "name": "stdout"
        }
      ]
    },
    {
      "cell_type": "code",
      "metadata": {
        "colab": {
          "base_uri": "https://localhost:8080/",
          "height": 282
        },
        "id": "sDkMwqa5XMRW",
        "outputId": "4c31ae23-3fd3-4550-fd9b-935a77a6d641"
      },
      "source": [
        "import matplotlib.pyplot as plt\n",
        "\n",
        "plt.plot(model_history.history['accuracy'], label = 'accuracy')\n",
        "plt.plot(model_history.history['val_accuracy'], label = 'val_accuracy')\n",
        "plt.legend(['train','test'], loc='lower left')"
      ],
      "execution_count": null,
      "outputs": [
        {
          "output_type": "execute_result",
          "data": {
            "text/plain": [
              "<matplotlib.legend.Legend at 0x7fceba497d90>"
            ]
          },
          "metadata": {
            "tags": []
          },
          "execution_count": 19
        },
        {
          "output_type": "display_data",
          "data": {
            "image/png": "[encoded data removed]",
            "text/plain": [
              "<Figure size 432x288 with 1 Axes>"
            ]
          },
          "metadata": {
            "tags": [],
            "needs_background": "light"
          }
        }
      ]
    },
    {
      "cell_type": "code",
      "metadata": {
        "colab": {
          "base_uri": "https://localhost:8080/",
          "height": 282
        },
        "id": "YJfffWKkXtxS",
        "outputId": "4d4b8733-5d6e-454c-f716-c09392279caf"
      },
      "source": [
        "plt.plot(model_history.history['loss'], label = 'loss')\n",
        "plt.plot(model_history.history['val_loss'], label = 'val_loss')\n",
        "plt.legend(['train','test'], loc='upper left')"
      ],
      "execution_count": null,
      "outputs": [
        {
          "output_type": "execute_result",
          "data": {
            "text/plain": [
              "<matplotlib.legend.Legend at 0x7fceba3ebc50>"
            ]
          },
          "metadata": {
            "tags": []
          },
          "execution_count": 20
        },
        {
          "output_type": "display_data",
          "data": {
            "image/png": "[encoded data removed]",
            "text/plain": [
              "<Figure size 432x288 with 1 Axes>"
            ]
          },
          "metadata": {
            "tags": [],
            "needs_background": "light"
          }
        }
      ]
    }
  ]
}