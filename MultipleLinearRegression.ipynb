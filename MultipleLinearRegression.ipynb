{
  "nbformat": 4,
  "nbformat_minor": 0,
  "metadata": {
    "colab": {
      "provenance": []
    },
    "kernelspec": {
      "name": "python3",
      "display_name": "Python 3"
    }
  },
  "cells": [
    {
      "cell_type": "code",
      "metadata": {
        "id": "idq87kOf7VSm"
      },
      "source": [
        "import numpy as np\n",
        "import pandas as pd\n",
        "import matplotlib.pyplot as plt"
      ],
      "execution_count": null,
      "outputs": []
    },
    {
      "cell_type": "code",
      "metadata": {
        "id": "xonO3AJuBvtH",
        "outputId": "15ac3081-0e52-425c-f475-55b2914d45da",
        "colab": {
          "base_uri": "https://localhost:8080/",
          "height": 34
        }
      },
      "source": [
        "from google.colab import drive\n",
        "drive.mount(\"/content/drive\", force_remount=True)"
      ],
      "execution_count": null,
      "outputs": [
        {
          "output_type": "stream",
          "text": [
            "Mounted at /content/drive\n"
          ],
          "name": "stdout"
        }
      ]
    },
    {
      "cell_type": "code",
      "metadata": {
        "id": "HTR078B9B6jm"
      },
      "source": [
        "df = pd.read_csv(\"/content/drive/My Drive/Colab Notebooks/Machine Learning/excelData/AnnualPowerLoad.csv\")"
      ],
      "execution_count": null,
      "outputs": []
    },
    {
      "cell_type": "code",
      "metadata": {
        "id": "V5JPtHKpEdWM",
        "outputId": "5aec9403-4868-4be8-8152-b56408322578",
        "colab": {
          "base_uri": "https://localhost:8080/",
          "height": 278
        }
      },
      "source": [
        "x = df['Year']\n",
        "y = df['Beijing city']\n",
        "\n",
        "plt.scatter(x, y)\n",
        "plt.xlabel('Year')\n",
        "plt.ylabel('Power Load (MW)')\n",
        "plt.show()"
      ],
      "execution_count": null,
      "outputs": [
        {
          "output_type": "display_data",
          "data": {
            "image/png": "[encoded data removed]",
            "text/plain": [
              "<Figure size 432x288 with 1 Axes>"
            ]
          },
          "metadata": {
            "tags": [],
            "needs_background": "light"
          }
        }
      ]
    },
    {
      "cell_type": "markdown",
      "metadata": {
        "id": "e3oTl6HHn0TV"
      },
      "source": [
        "## **Define linearRegression function**"
      ]
    },
    {
      "cell_type": "code",
      "metadata": {
        "id": "x-riRqDlFTsc"
      },
      "source": [
        "def linearRegression(x, y):\n",
        "  X_inv = np.dot(np.linalg.inv(np.dot(x.T, x)), x.T)\n",
        "  A = X_inv.dot(y)\n",
        "\n",
        "  return x.dot(A), A"
      ],
      "execution_count": null,
      "outputs": []
    },
    {
      "cell_type": "markdown",
      "metadata": {
        "id": "dJpm695KmN3n"
      },
      "source": [
        "# **Use 3 years of power load ($Y_{i}, Y_{i+1}, Y_{i+2}$) to predict the next year power load $Y_{i+4}$**"
      ]
    },
    {
      "cell_type": "code",
      "metadata": {
        "id": "uJKFqygDEmhK",
        "outputId": "09c219ad-3fb1-401b-8b92-b60f9dbfcada",
        "colab": {
          "base_uri": "https://localhost:8080/",
          "height": 567
        }
      },
      "source": [
        "x_column = np.array([[y[i], y[i+1], y[i+2]] for i in range(y.shape[0]-3)])\n",
        "print(x_column.shape)\n",
        "print(x_column)"
      ],
      "execution_count": null,
      "outputs": [
        {
          "output_type": "stream",
          "text": [
            "(30, 3)\n",
            "[[ 7.35   8.023  8.546]\n",
            " [ 8.023  8.546  8.672]\n",
            " [ 8.546  8.672  9.257]\n",
            " [ 8.672  9.257  9.563]\n",
            " [ 9.257  9.563 10.294]\n",
            " [ 9.563 10.294 11.063]\n",
            " [10.294 11.063 11.812]\n",
            " [11.063 11.812 12.85 ]\n",
            " [11.812 12.85  13.786]\n",
            " [12.85  13.786 14.218]\n",
            " [13.786 14.218 15.048]\n",
            " [14.218 15.048 16.14 ]\n",
            " [15.048 16.14  17.596]\n",
            " [16.14  17.596 19.25 ]\n",
            " [17.596 19.25  20.545]\n",
            " [19.25  20.545 22.259]\n",
            " [20.545 22.259 24.437]\n",
            " [22.259 24.437 26.361]\n",
            " [24.437 26.361 27.621]\n",
            " [26.361 27.621 29.726]\n",
            " [27.621 29.726 38.443]\n",
            " [29.726 38.443 39.994]\n",
            " [38.443 39.994 43.996]\n",
            " [39.994 43.996 46.761]\n",
            " [43.996 46.761 51.011]\n",
            " [46.761 51.011 56.704]\n",
            " [51.011 56.704 61.899]\n",
            " [56.704 61.899 67.509]\n",
            " [61.899 67.509 70.815]\n",
            " [67.509 70.815 75.885]]\n"
          ],
          "name": "stdout"
        }
      ]
    },
    {
      "cell_type": "markdown",
      "metadata": {
        "id": "NEYQx-IYoJv-"
      },
      "source": [
        "# Create y_true for these input $Y_{i}, Y_{i+1}, Y_{i+2}$ </br>\n",
        "# y_true = $Y_{i+4}$ </br>\n",
        "# Then the 3rd of y must be leave."
      ]
    },
    {
      "cell_type": "code",
      "metadata": {
        "id": "YcQ10l98TtMU",
        "outputId": "892b845b-a971-42c4-eabb-63b90f8ece95",
        "colab": {
          "base_uri": "https://localhost:8080/",
          "height": 87
        }
      },
      "source": [
        "y_true = np.array(y[3 : ])\n",
        "print(y_true.shape)\n",
        "print(y_true)"
      ],
      "execution_count": null,
      "outputs": [
        {
          "output_type": "stream",
          "text": [
            "(30,)\n",
            "[ 8.672  9.257  9.563 10.294 11.063 11.812 12.85  13.786 14.218 15.048\n",
            " 16.14  17.596 19.25  20.545 22.259 24.437 26.361 27.621 29.726 38.443\n",
            " 39.994 43.996 46.761 51.011 56.704 61.899 67.509 70.815 75.885 83.09 ]\n"
          ],
          "name": "stdout"
        }
      ]
    },
    {
      "cell_type": "markdown",
      "metadata": {
        "id": "tg5aEIXIpECN"
      },
      "source": [
        "# Call linearRegression function"
      ]
    },
    {
      "cell_type": "code",
      "metadata": {
        "id": "A1RaxUpgFkXS"
      },
      "source": [
        "y_predict, coeff = linearRegression(x_column, y_true)"
      ],
      "execution_count": null,
      "outputs": []
    },
    {
      "cell_type": "code",
      "metadata": {
        "id": "NTzR7im2Uj3M",
        "outputId": "4b924629-b9cc-4cca-8b1e-5d52b7272825",
        "colab": {
          "base_uri": "https://localhost:8080/",
          "height": 158
        }
      },
      "source": [
        "print('coeff\\n', coeff)\n",
        "print('y_predict\\n', y_predict)"
      ],
      "execution_count": null,
      "outputs": [
        {
          "output_type": "stream",
          "text": [
            "coeff\n",
            " [0.12509033 0.13272853 0.85588674]\n",
            "y_predict\n",
            " [ 8.672       8.93344454  9.51628431  9.87159322 10.6110392  11.40451829\n",
            " 12.23908672 13.32310528 14.35568013 14.97950086 15.86431012 16.96314213\n",
            " 18.45807774 20.20356577 21.71360359 23.5593763  25.81298627 27.9631999\n",
            " 29.56943361 31.77898692 39.67675895 42.42454898 47.14608201 50.2378035\n",
            " 54.74292799 60.52546216 66.25905114 72.46223965 76.68625248 82.16615547]\n"
          ],
          "name": "stdout"
        }
      ]
    },
    {
      "cell_type": "markdown",
      "metadata": {
        "id": "YUVugbP1pUmu"
      },
      "source": [
        "# Improve offset at the first data"
      ]
    },
    {
      "cell_type": "code",
      "metadata": {
        "id": "b2kEiWADUqK0",
        "outputId": "ae3b6109-1ef9-4a6a-b732-3fff2c870994",
        "colab": {
          "base_uri": "https://localhost:8080/",
          "height": 123
        }
      },
      "source": [
        "offset = y_true[0] - y_predict[0]\n",
        "y_predict += offset\n",
        "print('y_predict\\n', y_predict)"
      ],
      "execution_count": null,
      "outputs": [
        {
          "output_type": "stream",
          "text": [
            "y_predict\n",
            " [ 8.672       8.93344454  9.51628431  9.87159322 10.6110392  11.40451829\n",
            " 12.23908672 13.32310528 14.35568013 14.97950086 15.86431012 16.96314213\n",
            " 18.45807774 20.20356577 21.71360359 23.5593763  25.81298627 27.9631999\n",
            " 29.56943361 31.77898692 39.67675895 42.42454898 47.14608201 50.2378035\n",
            " 54.74292799 60.52546216 66.25905114 72.46223965 76.68625248 82.16615547]\n"
          ],
          "name": "stdout"
        }
      ]
    },
    {
      "cell_type": "code",
      "metadata": {
        "id": "vHIqtFb0SP9s",
        "outputId": "d60fdd8b-19d5-494f-de9d-d68742db7cc3",
        "colab": {
          "base_uri": "https://localhost:8080/",
          "height": 278
        }
      },
      "source": [
        "plt.scatter(x, y, color='r')\n",
        "plt.plot(x[3:], y_predict, color='b')\n",
        "plt.xlabel('Year')\n",
        "plt.ylabel('Power Load (MW)')\n",
        "plt.show()"
      ],
      "execution_count": null,
      "outputs": [
        {
          "output_type": "display_data",
          "data": {
            "image/png": "[encoded data removed]",
            "text/plain": [
              "<Figure size 432x288 with 1 Axes>"
            ]
          },
          "metadata": {
            "tags": [],
            "needs_background": "light"
          }
        }
      ]
    },
    {
      "cell_type": "markdown",
      "metadata": {
        "id": "46chDyNape4k"
      },
      "source": [
        "# Predict power load in year 2011"
      ]
    },
    {
      "cell_type": "code",
      "metadata": {
        "id": "xS1V1BUOposV",
        "outputId": "67d27372-5163-4709-83aa-f660108a2746",
        "colab": {
          "base_uri": "https://localhost:8080/",
          "height": 34
        }
      },
      "source": [
        "x_2009_to_2010 = np.array(x_column[29])\n",
        "x_2009_to_2010"
      ],
      "execution_count": null,
      "outputs": [
        {
          "output_type": "execute_result",
          "data": {
            "text/plain": [
              "array([67.509, 70.815, 75.885])"
            ]
          },
          "metadata": {
            "tags": []
          },
          "execution_count": 77
        }
      ]
    },
    {
      "cell_type": "code",
      "metadata": {
        "id": "fbxvn10fqEQc",
        "outputId": "88419265-57b2-4601-defd-9f386701b545",
        "colab": {
          "base_uri": "https://localhost:8080/",
          "height": 34
        }
      },
      "source": [
        "y_2011 = x_2009_to_2010.dot(coeff)\n",
        "y_2011"
      ],
      "execution_count": null,
      "outputs": [
        {
          "output_type": "execute_result",
          "data": {
            "text/plain": [
              "82.79285837627938"
            ]
          },
          "metadata": {
            "tags": []
          },
          "execution_count": 75
        }
      ]
    }
  ]
}