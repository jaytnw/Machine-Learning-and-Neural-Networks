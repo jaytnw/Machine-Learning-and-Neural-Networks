{
  "nbformat": 4,
  "nbformat_minor": 0,
  "metadata": {
    "colab": {
      "provenance": []
    },
    "kernelspec": {
      "name": "python3",
      "display_name": "Python 3"
    }
  },
  "cells": [
    {
      "cell_type": "code",
      "metadata": {
        "id": "Ep9BtjHLsRcn"
      },
      "source": [
        "import numpy as np\n",
        "import matplotlib.pyplot as plt\n",
        "from sklearn.datasets import load_iris\n",
        "np.set_printoptions(precision=3, suppress=True)"
      ],
      "execution_count": null,
      "outputs": []
    },
    {
      "cell_type": "code",
      "metadata": {
        "id": "CTbDl_N8saRI"
      },
      "source": [
        "iris = load_iris()"
      ],
      "execution_count": null,
      "outputs": []
    },
    {
      "cell_type": "code",
      "metadata": {
        "id": "MLrmmib7ss-P"
      },
      "source": [
        "x = iris['data']\n",
        "y_true = iris['target']"
      ],
      "execution_count": null,
      "outputs": []
    },
    {
      "cell_type": "code",
      "metadata": {
        "id": "aGvTRYdBtD23",
        "outputId": "fb323f83-056b-4552-db2e-250c5bf78ee2",
        "colab": {
          "base_uri": "https://localhost:8080/"
        }
      },
      "source": [
        "# Normalize\n",
        "X = x.copy()\n",
        "for i in range(x.shape[1]):\n",
        "    X[:, i] = (x[:, i] - np.min(x[:, i]))/(np.max(x[:, i]) - np.min(x[:, i]))\n",
        "print(X)"
      ],
      "execution_count": null,
      "outputs": [
        {
          "output_type": "stream",
          "text": [
            "[[0.222 0.625 0.068 0.042]\n",
            " [0.167 0.417 0.068 0.042]\n",
            " [0.111 0.5   0.051 0.042]\n",
            " [0.083 0.458 0.085 0.042]\n",
            " [0.194 0.667 0.068 0.042]\n",
            " [0.306 0.792 0.119 0.125]\n",
            " [0.083 0.583 0.068 0.083]\n",
            " [0.194 0.583 0.085 0.042]\n",
            " [0.028 0.375 0.068 0.042]\n",
            " [0.167 0.458 0.085 0.   ]\n",
            " [0.306 0.708 0.085 0.042]\n",
            " [0.139 0.583 0.102 0.042]\n",
            " [0.139 0.417 0.068 0.   ]\n",
            " [0.    0.417 0.017 0.   ]\n",
            " [0.417 0.833 0.034 0.042]\n",
            " [0.389 1.    0.085 0.125]\n",
            " [0.306 0.792 0.051 0.125]\n",
            " [0.222 0.625 0.068 0.083]\n",
            " [0.389 0.75  0.119 0.083]\n",
            " [0.222 0.75  0.085 0.083]\n",
            " [0.306 0.583 0.119 0.042]\n",
            " [0.222 0.708 0.085 0.125]\n",
            " [0.083 0.667 0.    0.042]\n",
            " [0.222 0.542 0.119 0.167]\n",
            " [0.139 0.583 0.153 0.042]\n",
            " [0.194 0.417 0.102 0.042]\n",
            " [0.194 0.583 0.102 0.125]\n",
            " [0.25  0.625 0.085 0.042]\n",
            " [0.25  0.583 0.068 0.042]\n",
            " [0.111 0.5   0.102 0.042]\n",
            " [0.139 0.458 0.102 0.042]\n",
            " [0.306 0.583 0.085 0.125]\n",
            " [0.25  0.875 0.085 0.   ]\n",
            " [0.333 0.917 0.068 0.042]\n",
            " [0.167 0.458 0.085 0.042]\n",
            " [0.194 0.5   0.034 0.042]\n",
            " [0.333 0.625 0.051 0.042]\n",
            " [0.167 0.667 0.068 0.   ]\n",
            " [0.028 0.417 0.051 0.042]\n",
            " [0.222 0.583 0.085 0.042]\n",
            " [0.194 0.625 0.051 0.083]\n",
            " [0.056 0.125 0.051 0.083]\n",
            " [0.028 0.5   0.051 0.042]\n",
            " [0.194 0.625 0.102 0.208]\n",
            " [0.222 0.75  0.153 0.125]\n",
            " [0.139 0.417 0.068 0.083]\n",
            " [0.222 0.75  0.102 0.042]\n",
            " [0.083 0.5   0.068 0.042]\n",
            " [0.278 0.708 0.085 0.042]\n",
            " [0.194 0.542 0.068 0.042]\n",
            " [0.75  0.5   0.627 0.542]\n",
            " [0.583 0.5   0.593 0.583]\n",
            " [0.722 0.458 0.661 0.583]\n",
            " [0.333 0.125 0.508 0.5  ]\n",
            " [0.611 0.333 0.61  0.583]\n",
            " [0.389 0.333 0.593 0.5  ]\n",
            " [0.556 0.542 0.627 0.625]\n",
            " [0.167 0.167 0.39  0.375]\n",
            " [0.639 0.375 0.61  0.5  ]\n",
            " [0.25  0.292 0.492 0.542]\n",
            " [0.194 0.    0.424 0.375]\n",
            " [0.444 0.417 0.542 0.583]\n",
            " [0.472 0.083 0.508 0.375]\n",
            " [0.5   0.375 0.627 0.542]\n",
            " [0.361 0.375 0.441 0.5  ]\n",
            " [0.667 0.458 0.576 0.542]\n",
            " [0.361 0.417 0.593 0.583]\n",
            " [0.417 0.292 0.525 0.375]\n",
            " [0.528 0.083 0.593 0.583]\n",
            " [0.361 0.208 0.492 0.417]\n",
            " [0.444 0.5   0.644 0.708]\n",
            " [0.5   0.333 0.508 0.5  ]\n",
            " [0.556 0.208 0.661 0.583]\n",
            " [0.5   0.333 0.627 0.458]\n",
            " [0.583 0.375 0.559 0.5  ]\n",
            " [0.639 0.417 0.576 0.542]\n",
            " [0.694 0.333 0.644 0.542]\n",
            " [0.667 0.417 0.678 0.667]\n",
            " [0.472 0.375 0.593 0.583]\n",
            " [0.389 0.25  0.424 0.375]\n",
            " [0.333 0.167 0.475 0.417]\n",
            " [0.333 0.167 0.458 0.375]\n",
            " [0.417 0.292 0.492 0.458]\n",
            " [0.472 0.292 0.695 0.625]\n",
            " [0.306 0.417 0.593 0.583]\n",
            " [0.472 0.583 0.593 0.625]\n",
            " [0.667 0.458 0.627 0.583]\n",
            " [0.556 0.125 0.576 0.5  ]\n",
            " [0.361 0.417 0.525 0.5  ]\n",
            " [0.333 0.208 0.508 0.5  ]\n",
            " [0.333 0.25  0.576 0.458]\n",
            " [0.5   0.417 0.61  0.542]\n",
            " [0.417 0.25  0.508 0.458]\n",
            " [0.194 0.125 0.39  0.375]\n",
            " [0.361 0.292 0.542 0.5  ]\n",
            " [0.389 0.417 0.542 0.458]\n",
            " [0.389 0.375 0.542 0.5  ]\n",
            " [0.528 0.375 0.559 0.5  ]\n",
            " [0.222 0.208 0.339 0.417]\n",
            " [0.389 0.333 0.525 0.5  ]\n",
            " [0.556 0.542 0.847 1.   ]\n",
            " [0.417 0.292 0.695 0.75 ]\n",
            " [0.778 0.417 0.831 0.833]\n",
            " [0.556 0.375 0.78  0.708]\n",
            " [0.611 0.417 0.814 0.875]\n",
            " [0.917 0.417 0.949 0.833]\n",
            " [0.167 0.208 0.593 0.667]\n",
            " [0.833 0.375 0.898 0.708]\n",
            " [0.667 0.208 0.814 0.708]\n",
            " [0.806 0.667 0.864 1.   ]\n",
            " [0.611 0.5   0.695 0.792]\n",
            " [0.583 0.292 0.729 0.75 ]\n",
            " [0.694 0.417 0.763 0.833]\n",
            " [0.389 0.208 0.678 0.792]\n",
            " [0.417 0.333 0.695 0.958]\n",
            " [0.583 0.5   0.729 0.917]\n",
            " [0.611 0.417 0.763 0.708]\n",
            " [0.944 0.75  0.966 0.875]\n",
            " [0.944 0.25  1.    0.917]\n",
            " [0.472 0.083 0.678 0.583]\n",
            " [0.722 0.5   0.797 0.917]\n",
            " [0.361 0.333 0.661 0.792]\n",
            " [0.944 0.333 0.966 0.792]\n",
            " [0.556 0.292 0.661 0.708]\n",
            " [0.667 0.542 0.797 0.833]\n",
            " [0.806 0.5   0.847 0.708]\n",
            " [0.528 0.333 0.644 0.708]\n",
            " [0.5   0.417 0.661 0.708]\n",
            " [0.583 0.333 0.78  0.833]\n",
            " [0.806 0.417 0.814 0.625]\n",
            " [0.861 0.333 0.864 0.75 ]\n",
            " [1.    0.75  0.915 0.792]\n",
            " [0.583 0.333 0.78  0.875]\n",
            " [0.556 0.333 0.695 0.583]\n",
            " [0.5   0.25  0.78  0.542]\n",
            " [0.944 0.417 0.864 0.917]\n",
            " [0.556 0.583 0.78  0.958]\n",
            " [0.583 0.458 0.763 0.708]\n",
            " [0.472 0.417 0.644 0.708]\n",
            " [0.722 0.458 0.746 0.833]\n",
            " [0.667 0.458 0.78  0.958]\n",
            " [0.722 0.458 0.695 0.917]\n",
            " [0.417 0.292 0.695 0.75 ]\n",
            " [0.694 0.5   0.831 0.917]\n",
            " [0.667 0.542 0.797 1.   ]\n",
            " [0.667 0.417 0.712 0.917]\n",
            " [0.556 0.208 0.678 0.75 ]\n",
            " [0.611 0.417 0.712 0.792]\n",
            " [0.528 0.583 0.746 0.917]\n",
            " [0.444 0.417 0.695 0.708]]\n"
          ],
          "name": "stdout"
        }
      ]
    },
    {
      "cell_type": "code",
      "metadata": {
        "id": "-ww-ViRwQ2Ad",
        "outputId": "950a8018-1ade-4d9a-cf7d-b15850e00a18",
        "colab": {
          "base_uri": "https://localhost:8080/"
        }
      },
      "source": [
        "# Create 5 New data\n",
        "X_test = np.random.randint(1000, size=(5, 4))/1000\n",
        "X_test"
      ],
      "execution_count": null,
      "outputs": [
        {
          "output_type": "execute_result",
          "data": {
            "text/plain": [
              "array([[0.328, 0.881, 0.145, 0.053],\n",
              "       [0.394, 0.98 , 0.58 , 0.521],\n",
              "       [0.791, 0.407, 0.827, 0.589],\n",
              "       [0.263, 0.602, 0.464, 0.686],\n",
              "       [0.204, 0.673, 0.313, 0.094]])"
            ]
          },
          "metadata": {
            "tags": []
          },
          "execution_count": 5
        }
      ]
    },
    {
      "cell_type": "code",
      "metadata": {
        "id": "7gmjYjRcUHS8"
      },
      "source": [
        "# Set numK for search N-first of minimun distance\n",
        "numK = 3"
      ],
      "execution_count": null,
      "outputs": []
    },
    {
      "cell_type": "code",
      "metadata": {
        "id": "g0__5B1AR_OS"
      },
      "source": [
        "# Create KNN algorithm\n",
        "def KNN(X_test, X_data, Nmin):\n",
        "    dist = np.zeros(X_data.shape[0])\n",
        "    for i in range(X_data.shape[0]):\n",
        "        d = np.power(X_test - X_data[i], 2)\n",
        "        dist[i] = np.sqrt(np.sum(d))\n",
        "\n",
        "    temp_dist = dist.copy()\n",
        "    temp_dist.sort()\n",
        "    temp_dist = temp_dist[0:Nmin]\n",
        "    idx_min = np.array([int(np.where(dist == temp_dist[i])[0]) for i in range(Nmin)])\n",
        "\n",
        "    return X_data[idx_min]"
      ],
      "execution_count": null,
      "outputs": []
    },
    {
      "cell_type": "code",
      "metadata": {
        "id": "sUunbfDvKox5",
        "outputId": "cb93ac26-800b-485e-d757-9534e28c5e24",
        "colab": {
          "base_uri": "https://localhost:8080/",
          "height": 265
        }
      },
      "source": [
        "for i in range(X.shape[0]):\n",
        "    plt.scatter(X[i, 0], X[i, 1], color='g')\n",
        "\n",
        "X_nearest = KNN(X_test[0], X, numK)\n",
        "for i in range(numK):\n",
        "    plt.scatter(X_nearest[0], X_nearest[1], color='b')\n",
        "\n",
        "plt.scatter(X_test[0, 0], X_test[0, 1], color='r')\n",
        "plt.show()"
      ],
      "execution_count": null,
      "outputs": [
        {
          "output_type": "display_data",
          "data": {
            "image/png": "[encoded data removed]",
            "text/plain": [
              "<Figure size 432x288 with 1 Axes>"
            ]
          },
          "metadata": {
            "tags": [],
            "needs_background": "light"
          }
        }
      ]
    }
  ]
}