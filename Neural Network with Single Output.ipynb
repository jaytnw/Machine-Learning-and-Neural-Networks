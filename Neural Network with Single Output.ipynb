{
  "nbformat": 4,
  "nbformat_minor": 0,
  "metadata": {
    "colab": {
      "provenance": []
    },
    "kernelspec": {
      "name": "python3",
      "display_name": "Python 3"
    },
    "language_info": {
      "name": "python"
    },
    "accelerator": "GPU"
  },
  "cells": [
    {
      "cell_type": "code",
      "metadata": {
        "id": "JSfP7eE0fQfn"
      },
      "source": [
        "from sklearn import datasets\n",
        "import numpy as np\n",
        "import matplotlib.pyplot as plt\n",
        "%matplotlib inline"
      ],
      "execution_count": null,
      "outputs": []
    },
    {
      "cell_type": "code",
      "metadata": {
        "colab": {
          "base_uri": "https://localhost:8080/",
          "height": 428
        },
        "id": "YNotnBlSg-O3",
        "outputId": "b710d322-c4d1-4179-8c6c-b1b9c4b991e9"
      },
      "source": [
        "np.random.seed(0)\n",
        "X, y = datasets.make_moons(100, noise=0.10)\n",
        "x1 = X[:,0]\n",
        "x2 = X[:,1]\n",
        "\n",
        "plt.figure(figsize=(10,7))\n",
        "plt.scatter(x1, x2, c= y, cmap=plt.cm.coolwarm)\n",
        "plt.show()"
      ],
      "execution_count": null,
      "outputs": [
        {
          "output_type": "display_data",
          "data": {
            "image/png": "[encoded data removed]",
            "text/plain": [
              "<Figure size 720x504 with 1 Axes>"
            ]
          },
          "metadata": {
            "tags": [],
            "needs_background": "light"
          }
        }
      ]
    },
    {
      "cell_type": "code",
      "metadata": {
        "id": "tbi5yHZahS-m",
        "colab": {
          "base_uri": "https://localhost:8080/"
        },
        "outputId": "0c0a06a2-6685-487f-860d-a03b609d5a9a"
      },
      "source": [
        "y = y.reshape(y.shape[0],1)\n",
        "print(X.shape)\n",
        "print(y.shape)"
      ],
      "execution_count": null,
      "outputs": [
        {
          "output_type": "stream",
          "text": [
            "(100, 2)\n",
            "(100, 1)\n"
          ],
          "name": "stdout"
        }
      ]
    },
    {
      "cell_type": "code",
      "metadata": {
        "id": "SkvW9d4mkXo4"
      },
      "source": [
        "def define_parameters(weights) :\n",
        "    weight_list = []\n",
        "    bias_list = []\n",
        "    for i in range(len(weights) - 1) :\n",
        "\n",
        "      w = np.random.randn(weights[i], weights[i+1])\n",
        "      b = np.random.randn()\n",
        "\n",
        "      weight_list.append(w)\n",
        "      bias_list.append(b)\n",
        "\n",
        "    return weight_list, bias_list"
      ],
      "execution_count": null,
      "outputs": []
    },
    {
      "cell_type": "code",
      "metadata": {
        "id": "v9m3gP3nl5kS"
      },
      "source": [
        "def sigmoid(x) :\n",
        "  return 1/(1+np.exp(-x))"
      ],
      "execution_count": null,
      "outputs": []
    },
    {
      "cell_type": "code",
      "metadata": {
        "id": "f893jgbPmZno"
      },
      "source": [
        "def sigmoid_def(x) :\n",
        "  return sigmoid(x * (1 - sigmoid(x)))"
      ],
      "execution_count": null,
      "outputs": []
    },
    {
      "cell_type": "code",
      "metadata": {
        "id": "rwdUtPuqmswR"
      },
      "source": [
        "def predictions(w, b, X):\n",
        "  zh = np.dot(X,w[0]) + b[0]\n",
        "  ah = sigmoid(zh)\n",
        "\n",
        "  zo = np.dot(ah, w[1] + b[1])\n",
        "  ao = sigmoid(zo)\n",
        "  return ao"
      ],
      "execution_count": null,
      "outputs": []
    },
    {
      "cell_type": "code",
      "metadata": {
        "id": "VOPhJqBPnVY6"
      },
      "source": [
        "def find_cost(ao,y):\n",
        "  m = y.shape[0]\n",
        "  total_cost = (1/m) * np.sum(np.square(ao - y))\n",
        "  return total_cost"
      ],
      "execution_count": null,
      "outputs": []
    },
    {
      "cell_type": "code",
      "metadata": {
        "id": "U-RkZdKunvSk"
      },
      "source": [
        "def find_derivatives(w, b, X):\n",
        "\n",
        "  zh = np.dot(X,w[0] + b[0])\n",
        "  ah = sigmoid(zh)\n",
        "\n",
        "  zo = np.dot(ah, w[1]) + b[1]\n",
        "  ao = sigmoid(zo)\n",
        "\n",
        "  # Backpropagation phase 1\n",
        "  m = y.shape[0]\n",
        "  dcost_dao = (1/m)*(ao-y)\n",
        "  dao_dzo = sigmoid_def(zo)\n",
        "  dzo_dwo = ah.T\n",
        "\n",
        "  dwo = np.dot(dzo_dwo, dcost_dao * dao_dzo)\n",
        "  dbo = np.sum(dcost_dao * dao_dzo)\n",
        "\n",
        "  # Backpropagation phase 2\n",
        "\n",
        "  # dcost_wh = dcost_dah * dzh * dzh_dwh\n",
        "  # dcost_dah = dcost_dzo * dzo_dah\n",
        "\n",
        "  dcost_dzo = dcost_dao * dao_dzo\n",
        "  dzo_dah = w[1].T\n",
        "\n",
        "  dcost_dah = np.dot(dcost_dzo , dzo_dah)\n",
        "\n",
        "  dah_dzh = sigmoid_def(zh)\n",
        "  dzh_dwh = X.T\n",
        "  dwh = np.dot(dzh_dwh, dah_dzh * dcost_dah)\n",
        "  dbh = np.sum(dah_dzh * dcost_dah)\n",
        "\n",
        "  return dwh, dbh, dwo, dbo"
      ],
      "execution_count": null,
      "outputs": []
    },
    {
      "cell_type": "code",
      "metadata": {
        "id": "HB9k0l5Wqaiv"
      },
      "source": [
        "def update_weights(w,b,dwh, dbh, dwo, dbo, lr):\n",
        "  w[0] = w[0] - lr * dwh\n",
        "  w[1] = w[1] - lr * dwo\n",
        "\n",
        "  b[0] = b[0] - lr * dbh\n",
        "  b[1] = b[1] - lr * dbo\n",
        "\n",
        "  return w, b"
      ],
      "execution_count": null,
      "outputs": []
    },
    {
      "cell_type": "code",
      "metadata": {
        "id": "IHT2T1uArEww"
      },
      "source": [
        "def my_neual_network(X, y, lr, epochs):\n",
        "  error_list = []\n",
        "  input_len = X.shape[1]\n",
        "  output_len = y.shape[1]\n",
        "  w,b = define_parameters([input_len, 4 , output_len])\n",
        "\n",
        "  for i in range(epochs):\n",
        "    ao = predictions(w, b, X)\n",
        "    cost = find_cost(ao, y)\n",
        "    error_list.append(cost)\n",
        "    dwh, dbh, dwo, dbo = find_derivatives(w, b, X)\n",
        "    w, b = update_weights(w, b ,dwh, dbh, dwo, dbo, lr)\n",
        "\n",
        "    if i % 50 == 0:\n",
        "      print(cost)\n",
        "\n",
        "  return w, b, error_list\n"
      ],
      "execution_count": null,
      "outputs": []
    },
    {
      "cell_type": "code",
      "metadata": {
        "colab": {
          "base_uri": "https://localhost:8080/"
        },
        "id": "Tj-SS5FmssSI",
        "outputId": "996b0e4b-9634-4db9-b62b-a4d89508b7bb"
      },
      "source": [
        "lr = 0.5\n",
        "epochs = 2000\n",
        "w, b, error_list = my_neual_network(X,y,lr,epochs)"
      ],
      "execution_count": null,
      "outputs": [
        {
          "output_type": "stream",
          "text": [
            "0.28994790887288946\n",
            "0.21093152258850478\n",
            "0.1628066106425954\n",
            "0.13989547368243777\n",
            "0.1329602976548439\n",
            "0.12848122811310786\n",
            "0.12530085106893452\n",
            "0.12303575899100203\n",
            "0.12141919348317305\n",
            "0.12025835192153922\n",
            "0.11941903177987585\n",
            "0.11880875052129772\n",
            "0.1183629083086781\n",
            "0.11803536315437864\n",
            "0.11779250153293168\n",
            "0.11760952252408156\n",
            "0.11746799136378243\n",
            "0.1173541173894282\n",
            "0.11725748412244469\n",
            "0.11717010409592163\n",
            "0.11708573320745252\n",
            "0.11699939998519732\n",
            "0.11690710994854345\n",
            "0.11680568680616292\n",
            "0.11669271497052176\n",
            "0.11656655219617232\n",
            "0.11642638613286022\n",
            "0.11627231325314118\n",
            "0.11610542243310032\n",
            "0.11592786836417546\n",
            "0.11574292220865388\n",
            "0.11555498889023928\n",
            "0.11536958255352206\n",
            "0.11519325435586915\n",
            "0.11503347003133124\n",
            "0.11489843854985139\n",
            "0.1147968974514996\n",
            "0.11473786467023861\n",
            "0.1147303703873549\n",
            "0.11478318517681238\n"
          ],
          "name": "stdout"
        }
      ]
    },
    {
      "cell_type": "code",
      "metadata": {
        "id": "n7Nm3sQtuf49",
        "colab": {
          "base_uri": "https://localhost:8080/",
          "height": 428
        },
        "outputId": "5a60251b-6c5f-4877-ad2f-cbd081112380"
      },
      "source": [
        "plt.figure(figsize=(10,7))\n",
        "plt.plot(error_list,)\n",
        "plt.show()"
      ],
      "execution_count": null,
      "outputs": [
        {
          "output_type": "display_data",
          "data": {
            "image/png": "[encoded data removed]",
            "text/plain": [
              "<Figure size 720x504 with 1 Axes>"
            ]
          },
          "metadata": {
            "tags": [],
            "needs_background": "light"
          }
        }
      ]
    },
    {
      "cell_type": "code",
      "metadata": {
        "id": "27Pu4afyuio1",
        "colab": {
          "base_uri": "https://localhost:8080/"
        },
        "outputId": "5bb93a5e-c2f4-4c9c-e6c3-8e065fccc2d3"
      },
      "source": [
        "print(b)"
      ],
      "execution_count": null,
      "outputs": [
        {
          "output_type": "stream",
          "text": [
            "[-2.024942080285475, -2.563378526989857]\n"
          ],
          "name": "stdout"
        }
      ]
    },
    {
      "cell_type": "code",
      "metadata": {
        "id": "LRr9Eslf81L6",
        "outputId": "ebb8c678-f57f-4915-fb00-8b2985e2f6a5",
        "colab": {
          "base_uri": "https://localhost:8080/"
        }
      },
      "source": [
        "single_point = np.array([0.5, 0.5])\n",
        "result = predictions(w, b, single_point)\n",
        "\n",
        "print(result)"
      ],
      "execution_count": null,
      "outputs": [
        {
          "output_type": "stream",
          "text": [
            "[0.40444877]\n"
          ],
          "name": "stdout"
        }
      ]
    }
  ]
}