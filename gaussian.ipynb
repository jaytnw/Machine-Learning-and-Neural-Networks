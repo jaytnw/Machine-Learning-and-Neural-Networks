{
  "nbformat": 4,
  "nbformat_minor": 0,
  "metadata": {
    "colab": {
      "provenance": []
    },
    "kernelspec": {
      "name": "python3",
      "display_name": "Python 3"
    }
  },
  "cells": [
    {
      "cell_type": "code",
      "metadata": {
        "id": "PWWFAxFncLiu"
      },
      "source": [
        "import numpy as np\n",
        "import matplotlib.pyplot as plt"
      ],
      "execution_count": null,
      "outputs": []
    },
    {
      "cell_type": "code",
      "metadata": {
        "id": "8lDE0gCfcnXy"
      },
      "source": [
        "x = np.arange(-3, 3, 0.1, dtype=np.float64)\n",
        "y = np.arange(-3, 3, 0.1, dtype=np.float64)\n",
        "data = np.array(list(zip(x, y)))\n",
        "data"
      ],
      "execution_count": null,
      "outputs": []
    },
    {
      "cell_type": "code",
      "metadata": {
        "id": "8awfE8rrcOER"
      },
      "source": [
        "def gaussian(Data):\n",
        "    data = Data.copy()\n",
        "    print(len(data.shape))\n",
        "    if len(data.shape) == 2 :\n",
        "        variance = np.array([np.var(data, axis=0)])\n",
        "        return np.exp(-np.sum(data**2/variance, axis=1))\n",
        "    elif len(data.shape) == 1 :\n",
        "        variance = np.array(np.var(data))\n",
        "        return np.exp(-data**2/variance)\n"
      ],
      "execution_count": null,
      "outputs": []
    },
    {
      "cell_type": "code",
      "metadata": {
        "id": "Gr6IwF5ziq7c",
        "outputId": "fd7b9f78-90d8-4cac-c482-d2867152709d",
        "colab": {
          "base_uri": "https://localhost:8080/",
          "height": 248
        }
      },
      "source": [
        "gdata = gaussian(data)\n",
        "gdata"
      ],
      "execution_count": null,
      "outputs": [
        {
          "output_type": "stream",
          "text": [
            "2\n"
          ],
          "name": "stdout"
        },
        {
          "output_type": "execute_result",
          "data": {
            "text/plain": [
              "array([0.00247462, 0.00366758, 0.00536361, 0.00774002, 0.01102137,\n",
              "       0.01548591, 0.02147068, 0.02937396, 0.03965401, 0.05282256,\n",
              "       0.06943199, 0.09005494, 0.11525593, 0.14555489, 0.18138365,\n",
              "       0.22303718, 0.27062269, 0.32401038, 0.38279077, 0.44624337,\n",
              "       0.51332202, 0.58266082, 0.6526037 , 0.72125868, 0.78657541,\n",
              "       0.84644253, 0.89879859, 0.94174883, 0.97367853, 0.99335367,\n",
              "       1.        , 0.99335367, 0.97367853, 0.94174883, 0.89879859,\n",
              "       0.84644253, 0.78657541, 0.72125868, 0.6526037 , 0.58266082,\n",
              "       0.51332202, 0.44624337, 0.38279077, 0.32401038, 0.27062269,\n",
              "       0.22303718, 0.18138365, 0.14555489, 0.11525593, 0.09005494,\n",
              "       0.06943199, 0.05282256, 0.03965401, 0.02937396, 0.02147068,\n",
              "       0.01548591, 0.01102137, 0.00774002, 0.00536361, 0.00366758])"
            ]
          },
          "metadata": {
            "tags": []
          },
          "execution_count": 143
        }
      ]
    },
    {
      "cell_type": "code",
      "metadata": {
        "id": "K0e6Cziyh3jf",
        "outputId": "440104a7-9fc1-47b7-8064-e29b66b34a28",
        "colab": {
          "base_uri": "https://localhost:8080/",
          "height": 265
        }
      },
      "source": [
        "plt.plot(x, gdata)\n",
        "plt.show()"
      ],
      "execution_count": null,
      "outputs": [
        {
          "output_type": "display_data",
          "data": {
            "image/png": "[encoded data removed]",
            "text/plain": [
              "<Figure size 432x288 with 1 Axes>"
            ]
          },
          "metadata": {
            "tags": [],
            "needs_background": "light"
          }
        }
      ]
    }
  ]
}