{
  "nbformat": 4,
  "nbformat_minor": 0,
  "metadata": {
    "colab": {
      "provenance": []
    },
    "kernelspec": {
      "name": "python3",
      "display_name": "Python 3"
    }
  },
  "cells": [
    {
      "cell_type": "code",
      "metadata": {
        "id": "uTi2r3OHXNnb"
      },
      "source": [
        "import numpy as np\n",
        "import pandas as pd\n",
        "import matplotlib.pyplot as plt\n",
        "np.set_printoptions(precision=2, suppress=True)"
      ],
      "execution_count": null,
      "outputs": []
    },
    {
      "cell_type": "code",
      "metadata": {
        "id": "MUBQ0bTZtQZg",
        "outputId": "4bbf44b0-964a-4304-b523-410ffe18f58e",
        "colab": {
          "base_uri": "https://localhost:8080/",
          "height": 34
        }
      },
      "source": [
        "from google.colab import drive\n",
        "drive.mount(\"/content/drive\", force_remount=True)"
      ],
      "execution_count": null,
      "outputs": [
        {
          "output_type": "stream",
          "text": [
            "Mounted at /content/drive\n"
          ],
          "name": "stdout"
        }
      ]
    },
    {
      "cell_type": "code",
      "metadata": {
        "id": "j_Es0BajtVrM"
      },
      "source": [
        "df = pd.read_csv(\"/content/drive/My Drive/Colab Notebooks/Machine Learning/excelData/AnnualPowerLoad.csv\")"
      ],
      "execution_count": null,
      "outputs": []
    },
    {
      "cell_type": "code",
      "metadata": {
        "id": "VUfuGYc4tX3r",
        "outputId": "872fa674-2790-4ec8-ea56-6df8405cbef1",
        "colab": {
          "base_uri": "https://localhost:8080/",
          "height": 278
        }
      },
      "source": [
        "x = df['Year']\n",
        "y = df['Beijing city']\n",
        "\n",
        "plt.scatter(x, y)\n",
        "plt.xlabel('Year')\n",
        "plt.ylabel('Power Load (MW)')\n",
        "plt.show()"
      ],
      "execution_count": null,
      "outputs": [
        {
          "output_type": "display_data",
          "data": {
            "image/png": "[encoded data removed]",
            "text/plain": [
              "<Figure size 432x288 with 1 Axes>"
            ]
          },
          "metadata": {
            "tags": [],
            "needs_background": "light"
          }
        }
      ]
    },
    {
      "cell_type": "markdown",
      "metadata": {
        "id": "mW7k-2KWS3rt"
      },
      "source": [
        "## **Extreme Learning**"
      ]
    },
    {
      "cell_type": "code",
      "metadata": {
        "id": "UhWxNFOOsbnn",
        "outputId": "5ad67ed6-83e6-4a1b-840b-5a83b139a8cc",
        "colab": {
          "base_uri": "https://localhost:8080/",
          "height": 87
        }
      },
      "source": [
        "x_column = np.array([[y[i], y[i+1], y[i+2]] for i in range(y.shape[0]-3)])\n",
        "y_true = np.array(y[3 : ])\n",
        "y_true"
      ],
      "execution_count": null,
      "outputs": [
        {
          "output_type": "execute_result",
          "data": {
            "text/plain": [
              "array([ 8.67,  9.26,  9.56, 10.29, 11.06, 11.81, 12.85, 13.79, 14.22,\n",
              "       15.05, 16.14, 17.6 , 19.25, 20.55, 22.26, 24.44, 26.36, 27.62,\n",
              "       29.73, 38.44, 39.99, 44.  , 46.76, 51.01, 56.7 , 61.9 , 67.51,\n",
              "       70.81, 75.89, 83.09])"
            ]
          },
          "metadata": {
            "tags": []
          },
          "execution_count": 5
        }
      ]
    },
    {
      "cell_type": "code",
      "metadata": {
        "id": "zkOpdy0lc3xG",
        "outputId": "65446c33-5160-416f-b326-fb985c804168",
        "colab": {
          "base_uri": "https://localhost:8080/",
          "height": 70
        }
      },
      "source": [
        "HiddenNode = 3\n",
        "Win = np.random.randint(-1000, 1000, (x_column.shape[1], HiddenNode))/1000\n",
        "Win"
      ],
      "execution_count": null,
      "outputs": [
        {
          "output_type": "execute_result",
          "data": {
            "text/plain": [
              "array([[ 0.87, -0.09, -0.78],\n",
              "       [ 0.2 ,  0.07, -0.87],\n",
              "       [-0.83,  0.6 ,  0.01]])"
            ]
          },
          "metadata": {
            "tags": []
          },
          "execution_count": 6
        }
      ]
    },
    {
      "cell_type": "code",
      "metadata": {
        "id": "4wVnZxWeskHT",
        "outputId": "ec00524f-f27f-4932-ef00-d783a9411666",
        "colab": {
          "base_uri": "https://localhost:8080/",
          "height": 550
        }
      },
      "source": [
        "# H = np.maximum(np.dot(x_column, Win), 0, np.dot(x_column, Win))   # ReLu as Activation function\n",
        "# H = 1/(1 + np.exp(-np.dot(x_column, Win)))                        # Sigmoid as Activation function\n",
        "H = np.dot(x_column, Win)\n",
        "H"
      ],
      "execution_count": null,
      "outputs": [
        {
          "output_type": "execute_result",
          "data": {
            "text/plain": [
              "array([[   0.82,    4.99,  -12.61],\n",
              "       [   1.41,    5.04,  -13.59],\n",
              "       [   1.4 ,    5.35,  -14.1 ],\n",
              "       [   1.37,    5.57,  -14.7 ],\n",
              "       [   1.32,    5.97,  -15.42],\n",
              "       [   1.09,    6.45,  -16.28],\n",
              "       [   1.25,    6.89,  -17.51],\n",
              "       [   1.2 ,    7.49,  -18.75],\n",
              "       [   1.27,    8.05,  -20.23],\n",
              "       [   2.  ,    8.28,  -21.85],\n",
              "       [   2.2 ,    8.72,  -22.94],\n",
              "       [   1.83,    9.39,  -23.99],\n",
              "       [   1.55,   10.26,  -25.57],\n",
              "       [   1.4 ,   11.25,  -27.67],\n",
              "       [   1.91,   12.  ,  -30.23],\n",
              "       [   2.17,   12.97,  -32.62],\n",
              "       [   1.81,   14.27,  -35.1 ],\n",
              "       [   2.12,   15.41,  -38.31],\n",
              "       [   3.34,   16.1 ,  -41.66],\n",
              "       [   3.5 ,   17.27,  -44.24],\n",
              "       [  -2.27,   22.5 ,  -46.96],\n",
              "       [  -0.03,   23.83,  -56.15],\n",
              "       [   4.51,   25.56,  -64.26],\n",
              "       [   4.33,   27.34,  -68.91],\n",
              "       [   4.8 ,   29.71,  -74.39],\n",
              "       [   3.29,   33.15,  -80.18],\n",
              "       [   3.76,   36.25,  -88.38],\n",
              "       [   5.04,   39.45,  -97.28],\n",
              "       [   7.89,   41.34, -106.17],\n",
              "       [   9.18,   44.1 , -113.36]])"
            ]
          },
          "metadata": {
            "tags": []
          },
          "execution_count": 7
        }
      ]
    },
    {
      "cell_type": "markdown",
      "metadata": {
        "id": "Kbwn3X_FsqJv"
      },
      "source": [
        "# **If** $det(H^{T}\\cdot H) = 0$\n",
        "\n",
        "# **then** $H^{T}\\cdot H$ is singluar matrix. We can't find inverse matrix.\n"
      ]
    },
    {
      "cell_type": "code",
      "metadata": {
        "id": "cCBIJH_ftfve",
        "outputId": "6822c631-3a5e-46bc-edbb-48194acdf37d",
        "colab": {
          "base_uri": "https://localhost:8080/",
          "height": 34
        }
      },
      "source": [
        "H_inv = np.dot(np.linalg.inv(np.dot(H.T, H)), H.T)\n",
        "Wout = np.dot(H_inv, y_true)\n",
        "Wout"
      ],
      "execution_count": null,
      "outputs": [
        {
          "output_type": "execute_result",
          "data": {
            "text/plain": [
              "array([0.45, 2.06, 0.11])"
            ]
          },
          "metadata": {
            "tags": []
          },
          "execution_count": 8
        }
      ]
    },
    {
      "cell_type": "markdown",
      "metadata": {
        "id": "8uqokoM8cgpz"
      },
      "source": [
        "# **Predict**"
      ]
    },
    {
      "cell_type": "code",
      "metadata": {
        "id": "W0Rq_FHhcf-r",
        "outputId": "c1e06247-e359-4622-ec17-0824d06c5b47",
        "colab": {
          "base_uri": "https://localhost:8080/",
          "height": 34
        }
      },
      "source": [
        "A = np.dot(Win, Wout)\n",
        "A"
      ],
      "execution_count": null,
      "outputs": [
        {
          "output_type": "execute_result",
          "data": {
            "text/plain": [
              "array([0.13, 0.13, 0.86])"
            ]
          },
          "metadata": {
            "tags": []
          },
          "execution_count": 9
        }
      ]
    },
    {
      "cell_type": "code",
      "metadata": {
        "id": "E8C8G7-bwQYS",
        "outputId": "f3a95786-3870-44be-c199-9d2660c023fa",
        "colab": {
          "base_uri": "https://localhost:8080/",
          "height": 87
        }
      },
      "source": [
        "y_predict = np.dot(x_column, A)\n",
        "y_predict"
      ],
      "execution_count": null,
      "outputs": [
        {
          "output_type": "execute_result",
          "data": {
            "text/plain": [
              "array([ 9.3 ,  9.56, 10.14, 10.5 , 11.24, 12.03, 12.87, 13.95, 14.98,\n",
              "       15.61, 16.49, 17.59, 19.08, 20.83, 22.34, 24.19, 26.44, 28.59,\n",
              "       30.2 , 32.41, 40.3 , 43.05, 47.77, 50.86, 55.37, 61.15, 66.89,\n",
              "       73.09, 77.31, 82.79])"
            ]
          },
          "metadata": {
            "tags": []
          },
          "execution_count": 10
        }
      ]
    },
    {
      "cell_type": "code",
      "metadata": {
        "id": "tT5pONnfem3q",
        "outputId": "eeadd992-efb5-4b91-fd33-659e34fa77c7",
        "colab": {
          "base_uri": "https://localhost:8080/",
          "height": 87
        }
      },
      "source": [
        "y_true"
      ],
      "execution_count": null,
      "outputs": [
        {
          "output_type": "execute_result",
          "data": {
            "text/plain": [
              "array([ 8.67,  9.26,  9.56, 10.29, 11.06, 11.81, 12.85, 13.79, 14.22,\n",
              "       15.05, 16.14, 17.6 , 19.25, 20.55, 22.26, 24.44, 26.36, 27.62,\n",
              "       29.73, 38.44, 39.99, 44.  , 46.76, 51.01, 56.7 , 61.9 , 67.51,\n",
              "       70.81, 75.89, 83.09])"
            ]
          },
          "metadata": {
            "tags": []
          },
          "execution_count": 11
        }
      ]
    },
    {
      "cell_type": "code",
      "metadata": {
        "id": "sCY8TwMpfUpb",
        "outputId": "166d69c6-53bb-40a3-ff72-29a31d3dd3d2",
        "colab": {
          "base_uri": "https://localhost:8080/",
          "height": 34
        }
      },
      "source": [
        "RMSE = np.sqrt(np.mean((y_true - y_predict)**2))\n",
        "RMSE"
      ],
      "execution_count": null,
      "outputs": [
        {
          "output_type": "execute_result",
          "data": {
            "text/plain": [
              "1.314525464771853"
            ]
          },
          "metadata": {
            "tags": []
          },
          "execution_count": 12
        }
      ]
    },
    {
      "cell_type": "markdown",
      "metadata": {
        "id": "TNlzj1RPhKv5"
      },
      "source": [
        "## **Simple to Implement!**"
      ]
    },
    {
      "cell_type": "code",
      "metadata": {
        "id": "GL1FCAQOhKeJ"
      },
      "source": [
        "def ExtremeLearning(X, y_true, HiddenNode=1000):\n",
        "    y_predict, Hidden, RMSE = None, None, None\n",
        "    while True:\n",
        "        ' Random weight between input layer and H layer '\n",
        "        Win = np.random.randint(-1000, 1000, (X.shape[1], HiddenNode))\n",
        "\n",
        "        ' Calculate H layer '\n",
        "        # H = np.maximum(np.dot(X, Win), 0, np.dot(X, Win))   # ReLu as Activation function\n",
        "        H = np.dot(X, Win)\n",
        "\n",
        "        ' Calculate pseudo inverse '\n",
        "        if np.linalg.det(np.dot(H.T, H)) != 0.0 :\n",
        "            H_inv = np.dot(np.linalg.inv(np.dot(H.T, H)), H.T)\n",
        "        else :\n",
        "            print('Singular matrix occur with bad random weight.')\n",
        "            continue\n",
        "\n",
        "        ' Calculate weight between H layer and output layer '\n",
        "        Wout = np.dot(H_inv, y_true)\n",
        "\n",
        "        ' Calculate Hidden matrix between input and output '\n",
        "        Hidden = np.dot(Win, Wout)\n",
        "\n",
        "        ' Calculate output '\n",
        "        y_predict = np.dot(X, Hidden)\n",
        "\n",
        "        ' Calculate root mean squart error '\n",
        "        RMSE = np.sqrt(np.mean((y_true - y_predict)**2))\n",
        "        break\n",
        "\n",
        "    return y_predict, Hidden, RMSE"
      ],
      "execution_count": null,
      "outputs": []
    },
    {
      "cell_type": "markdown",
      "metadata": {
        "id": "XEIAErqKi73R"
      },
      "source": [
        "# Set input and actual output"
      ]
    },
    {
      "cell_type": "code",
      "metadata": {
        "id": "ckqI34sdi4zI"
      },
      "source": [
        "x_column = np.array([[y[i], y[i+1], y[i+2]] for i in range(y.shape[0]-3)])\n",
        "y_true = np.array(y[3 : ])"
      ],
      "execution_count": null,
      "outputs": []
    },
    {
      "cell_type": "markdown",
      "metadata": {
        "id": "CQw846ltjDFQ"
      },
      "source": [
        "**Call ExtremeLearning function**"
      ]
    },
    {
      "cell_type": "code",
      "metadata": {
        "id": "kv4oNqbLjCwS",
        "outputId": "d248fa9e-fd80-4115-f112-f523549086b7",
        "colab": {
          "base_uri": "https://localhost:8080/",
          "height": 87
        }
      },
      "source": [
        "y_predict, Hidden, RMSE = ExtremeLearning(x_column, y_true, HiddenNode=3)\n",
        "print(y_predict)\n",
        "print(RMSE)"
      ],
      "execution_count": null,
      "outputs": [
        {
          "output_type": "stream",
          "text": [
            "[ 9.3   9.56 10.14 10.5  11.24 12.03 12.87 13.95 14.98 15.61 16.49 17.59\n",
            " 19.08 20.83 22.34 24.19 26.44 28.59 30.2  32.41 40.3  43.05 47.77 50.86\n",
            " 55.37 61.15 66.89 73.09 77.31 82.79]\n",
            "1.314525464771853\n"
          ],
          "name": "stdout"
        }
      ]
    },
    {
      "cell_type": "code",
      "metadata": {
        "id": "eLEVKsi1p26a",
        "outputId": "18381043-1e94-4f3b-aea1-3e8002eb7cff",
        "colab": {
          "base_uri": "https://localhost:8080/",
          "height": 281
        }
      },
      "source": [
        "plt.scatter(x, y, color='r')\n",
        "plt.plot(x[3:], y_predict)\n",
        "plt.title('Extreme Learning')\n",
        "plt.show()"
      ],
      "execution_count": null,
      "outputs": [
        {
          "output_type": "display_data",
          "data": {
            "image/png": "[encoded data removed]",
            "text/plain": [
              "<Figure size 432x288 with 1 Axes>"
            ]
          },
          "metadata": {
            "tags": [],
            "needs_background": "light"
          }
        }
      ]
    }
  ]
}