{
  "nbformat": 4,
  "nbformat_minor": 0,
  "metadata": {
    "colab": {
      "provenance": []
    },
    "kernelspec": {
      "name": "python3",
      "display_name": "Python 3"
    },
    "language_info": {
      "name": "python"
    }
  },
  "cells": [
    {
      "cell_type": "code",
      "metadata": {
        "id": "W7XaJIyfBHHz"
      },
      "source": [
        "import pandas as pd\n",
        "import numpy as np\n",
        "import matplotlib.pyplot as plt\n",
        "from sklearn.linear_model import LinearRegression\n",
        "from sklearn import metrics"
      ],
      "execution_count": null,
      "outputs": []
    },
    {
      "cell_type": "code",
      "metadata": {
        "colab": {
          "base_uri": "https://localhost:8080/"
        },
        "id": "Fav94QbkBf6s",
        "outputId": "9091263e-9fb8-4e7c-94bf-c76394c44ebe"
      },
      "source": [
        "from google.colab import drive\n",
        "drive.mount('/content/gdrive/')"
      ],
      "execution_count": null,
      "outputs": [
        {
          "output_type": "stream",
          "name": "stdout",
          "text": [
            "Mounted at /content/gdrive/\n"
          ]
        }
      ]
    },
    {
      "cell_type": "code",
      "metadata": {
        "id": "MvhsmlHFEjE7"
      },
      "source": [
        "wine = pd.read_csv(\"wine.csv\")"
      ],
      "execution_count": null,
      "outputs": []
    },
    {
      "cell_type": "code",
      "metadata": {
        "colab": {
          "base_uri": "https://localhost:8080/"
        },
        "id": "3UMs_ESzEmyb",
        "outputId": "4fac5750-008a-451f-9e98-2551bfb25f0e"
      },
      "source": [
        "wine.shape"
      ],
      "execution_count": null,
      "outputs": [
        {
          "output_type": "execute_result",
          "data": {
            "text/plain": [
              "(27, 7)"
            ]
          },
          "metadata": {},
          "execution_count": 4
        }
      ]
    },
    {
      "cell_type": "code",
      "metadata": {
        "colab": {
          "base_uri": "https://localhost:8080/"
        },
        "id": "mkdq2E9iEy17",
        "outputId": "7c9b9b8e-80d9-48de-9641-8cc33e9376f4"
      },
      "source": [
        "wine.info()"
      ],
      "execution_count": null,
      "outputs": [
        {
          "output_type": "stream",
          "name": "stdout",
          "text": [
            "<class 'pandas.core.frame.DataFrame'>\n",
            "RangeIndex: 27 entries, 0 to 26\n",
            "Data columns (total 7 columns):\n",
            " #   Column       Non-Null Count  Dtype  \n",
            "---  ------       --------------  -----  \n",
            " 0   Year         27 non-null     int64  \n",
            " 1   Price        27 non-null     float64\n",
            " 2   WinterRain   27 non-null     int64  \n",
            " 3   AGST         27 non-null     float64\n",
            " 4   HarvestRain  27 non-null     int64  \n",
            " 5   Age          27 non-null     int64  \n",
            " 6   FrancePop    27 non-null     float64\n",
            "dtypes: float64(3), int64(4)\n",
            "memory usage: 1.6 KB\n"
          ]
        }
      ]
    },
    {
      "cell_type": "code",
      "metadata": {
        "colab": {
          "base_uri": "https://localhost:8080/",
          "height": 297
        },
        "id": "kUqIND8HE2db",
        "outputId": "e6948d41-8791-4d24-b7e7-dc8f37e47da3"
      },
      "source": [
        "wine.describe()"
      ],
      "execution_count": null,
      "outputs": [
        {
          "output_type": "execute_result",
          "data": {
            "text/html": [
              "<div>\n",
              "<style scoped>\n",
              "    .dataframe tbody tr th:only-of-type {\n",
              "        vertical-align: middle;\n",
              "    }\n",
              "\n",
              "    .dataframe tbody tr th {\n",
              "        vertical-align: top;\n",
              "    }\n",
              "\n",
              "    .dataframe thead th {\n",
              "        text-align: right;\n",
              "    }\n",
              "</style>\n",
              "<table border=\"1\" class=\"dataframe\">\n",
              "  <thead>\n",
              "    <tr style=\"text-align: right;\">\n",
              "      <th></th>\n",
              "      <th>Year</th>\n",
              "      <th>Price</th>\n",
              "      <th>WinterRain</th>\n",
              "      <th>AGST</th>\n",
              "      <th>HarvestRain</th>\n",
              "      <th>Age</th>\n",
              "      <th>FrancePop</th>\n",
              "    </tr>\n",
              "  </thead>\n",
              "  <tbody>\n",
              "    <tr>\n",
              "      <th>count</th>\n",
              "      <td>27.000000</td>\n",
              "      <td>27.000000</td>\n",
              "      <td>27.000000</td>\n",
              "      <td>27.000000</td>\n",
              "      <td>27.000000</td>\n",
              "      <td>27.000000</td>\n",
              "      <td>27.000000</td>\n",
              "    </tr>\n",
              "    <tr>\n",
              "      <th>mean</th>\n",
              "      <td>1966.814815</td>\n",
              "      <td>7.041948</td>\n",
              "      <td>608.407407</td>\n",
              "      <td>16.477781</td>\n",
              "      <td>144.814815</td>\n",
              "      <td>16.185185</td>\n",
              "      <td>50085.443963</td>\n",
              "    </tr>\n",
              "    <tr>\n",
              "      <th>std</th>\n",
              "      <td>8.246384</td>\n",
              "      <td>0.634590</td>\n",
              "      <td>129.034956</td>\n",
              "      <td>0.659189</td>\n",
              "      <td>73.065849</td>\n",
              "      <td>8.246384</td>\n",
              "      <td>3792.998764</td>\n",
              "    </tr>\n",
              "    <tr>\n",
              "      <th>min</th>\n",
              "      <td>1952.000000</td>\n",
              "      <td>6.204900</td>\n",
              "      <td>376.000000</td>\n",
              "      <td>14.983300</td>\n",
              "      <td>38.000000</td>\n",
              "      <td>3.000000</td>\n",
              "      <td>43183.569000</td>\n",
              "    </tr>\n",
              "    <tr>\n",
              "      <th>25%</th>\n",
              "      <td>1960.500000</td>\n",
              "      <td>6.508350</td>\n",
              "      <td>543.500000</td>\n",
              "      <td>16.150000</td>\n",
              "      <td>88.000000</td>\n",
              "      <td>9.500000</td>\n",
              "      <td>46856.000000</td>\n",
              "    </tr>\n",
              "    <tr>\n",
              "      <th>50%</th>\n",
              "      <td>1967.000000</td>\n",
              "      <td>6.984500</td>\n",
              "      <td>600.000000</td>\n",
              "      <td>16.416700</td>\n",
              "      <td>123.000000</td>\n",
              "      <td>16.000000</td>\n",
              "      <td>50650.406000</td>\n",
              "    </tr>\n",
              "    <tr>\n",
              "      <th>75%</th>\n",
              "      <td>1973.500000</td>\n",
              "      <td>7.441500</td>\n",
              "      <td>705.500000</td>\n",
              "      <td>17.008350</td>\n",
              "      <td>185.500000</td>\n",
              "      <td>22.500000</td>\n",
              "      <td>53511.207500</td>\n",
              "    </tr>\n",
              "    <tr>\n",
              "      <th>max</th>\n",
              "      <td>1980.000000</td>\n",
              "      <td>8.493700</td>\n",
              "      <td>830.000000</td>\n",
              "      <td>17.650000</td>\n",
              "      <td>292.000000</td>\n",
              "      <td>31.000000</td>\n",
              "      <td>55110.236000</td>\n",
              "    </tr>\n",
              "  </tbody>\n",
              "</table>\n",
              "</div>"
            ],
            "text/plain": [
              "              Year      Price  WinterRain  ...  HarvestRain        Age     FrancePop\n",
              "count    27.000000  27.000000   27.000000  ...    27.000000  27.000000     27.000000\n",
              "mean   1966.814815   7.041948  608.407407  ...   144.814815  16.185185  50085.443963\n",
              "std       8.246384   0.634590  129.034956  ...    73.065849   8.246384   3792.998764\n",
              "min    1952.000000   6.204900  376.000000  ...    38.000000   3.000000  43183.569000\n",
              "25%    1960.500000   6.508350  543.500000  ...    88.000000   9.500000  46856.000000\n",
              "50%    1967.000000   6.984500  600.000000  ...   123.000000  16.000000  50650.406000\n",
              "75%    1973.500000   7.441500  705.500000  ...   185.500000  22.500000  53511.207500\n",
              "max    1980.000000   8.493700  830.000000  ...   292.000000  31.000000  55110.236000\n",
              "\n",
              "[8 rows x 7 columns]"
            ]
          },
          "metadata": {},
          "execution_count": 7
        }
      ]
    },
    {
      "cell_type": "code",
      "metadata": {
        "colab": {
          "base_uri": "https://localhost:8080/",
          "height": 204
        },
        "id": "hwVLwtJbFEtq",
        "outputId": "677923f1-c86b-4b19-c22f-318cafb3ef65"
      },
      "source": [
        "wine.head()"
      ],
      "execution_count": null,
      "outputs": [
        {
          "output_type": "execute_result",
          "data": {
            "text/html": [
              "<div>\n",
              "<style scoped>\n",
              "    .dataframe tbody tr th:only-of-type {\n",
              "        vertical-align: middle;\n",
              "    }\n",
              "\n",
              "    .dataframe tbody tr th {\n",
              "        vertical-align: top;\n",
              "    }\n",
              "\n",
              "    .dataframe thead th {\n",
              "        text-align: right;\n",
              "    }\n",
              "</style>\n",
              "<table border=\"1\" class=\"dataframe\">\n",
              "  <thead>\n",
              "    <tr style=\"text-align: right;\">\n",
              "      <th></th>\n",
              "      <th>Year</th>\n",
              "      <th>Price</th>\n",
              "      <th>WinterRain</th>\n",
              "      <th>AGST</th>\n",
              "      <th>HarvestRain</th>\n",
              "      <th>Age</th>\n",
              "      <th>FrancePop</th>\n",
              "    </tr>\n",
              "  </thead>\n",
              "  <tbody>\n",
              "    <tr>\n",
              "      <th>0</th>\n",
              "      <td>1952</td>\n",
              "      <td>7.4950</td>\n",
              "      <td>600</td>\n",
              "      <td>17.1167</td>\n",
              "      <td>160</td>\n",
              "      <td>31</td>\n",
              "      <td>43183.569</td>\n",
              "    </tr>\n",
              "    <tr>\n",
              "      <th>1</th>\n",
              "      <td>1953</td>\n",
              "      <td>8.0393</td>\n",
              "      <td>690</td>\n",
              "      <td>16.7333</td>\n",
              "      <td>80</td>\n",
              "      <td>30</td>\n",
              "      <td>43495.030</td>\n",
              "    </tr>\n",
              "    <tr>\n",
              "      <th>2</th>\n",
              "      <td>1955</td>\n",
              "      <td>7.6858</td>\n",
              "      <td>502</td>\n",
              "      <td>17.1500</td>\n",
              "      <td>130</td>\n",
              "      <td>28</td>\n",
              "      <td>44217.857</td>\n",
              "    </tr>\n",
              "    <tr>\n",
              "      <th>3</th>\n",
              "      <td>1957</td>\n",
              "      <td>6.9845</td>\n",
              "      <td>420</td>\n",
              "      <td>16.1333</td>\n",
              "      <td>110</td>\n",
              "      <td>26</td>\n",
              "      <td>45152.252</td>\n",
              "    </tr>\n",
              "    <tr>\n",
              "      <th>4</th>\n",
              "      <td>1958</td>\n",
              "      <td>6.7772</td>\n",
              "      <td>582</td>\n",
              "      <td>16.4167</td>\n",
              "      <td>187</td>\n",
              "      <td>25</td>\n",
              "      <td>45653.805</td>\n",
              "    </tr>\n",
              "  </tbody>\n",
              "</table>\n",
              "</div>"
            ],
            "text/plain": [
              "   Year   Price  WinterRain     AGST  HarvestRain  Age  FrancePop\n",
              "0  1952  7.4950         600  17.1167          160   31  43183.569\n",
              "1  1953  8.0393         690  16.7333           80   30  43495.030\n",
              "2  1955  7.6858         502  17.1500          130   28  44217.857\n",
              "3  1957  6.9845         420  16.1333          110   26  45152.252\n",
              "4  1958  6.7772         582  16.4167          187   25  45653.805"
            ]
          },
          "metadata": {},
          "execution_count": 8
        }
      ]
    },
    {
      "cell_type": "code",
      "metadata": {
        "id": "497iCAjHGC4z"
      },
      "source": [
        "model1 = LinearRegression()"
      ],
      "execution_count": null,
      "outputs": []
    },
    {
      "cell_type": "code",
      "metadata": {
        "id": "osUGe7YzGRjy"
      },
      "source": [
        "AGST = wine.AGST.values.reshape((-1, 1)) # x-value\n",
        "Price = wine.Price.values # y-value"
      ],
      "execution_count": null,
      "outputs": []
    },
    {
      "cell_type": "code",
      "metadata": {
        "colab": {
          "base_uri": "https://localhost:8080/"
        },
        "id": "eQ_QUKvOGrjy",
        "outputId": "9be34333-f9a5-420b-9ee5-5a74d0bda40f"
      },
      "source": [
        "model1.fit(AGST, Price)"
      ],
      "execution_count": null,
      "outputs": [
        {
          "output_type": "execute_result",
          "data": {
            "text/plain": [
              "LinearRegression(copy_X=True, fit_intercept=True, n_jobs=None, normalize=False)"
            ]
          },
          "metadata": {},
          "execution_count": 11
        }
      ]
    },
    {
      "cell_type": "code",
      "metadata": {
        "id": "WjWLbS_SG-I5"
      },
      "source": [
        "intercept = model1.intercept_\n",
        "slope = model1.coef_"
      ],
      "execution_count": null,
      "outputs": []
    },
    {
      "cell_type": "code",
      "metadata": {
        "colab": {
          "base_uri": "https://localhost:8080/"
        },
        "id": "jZ9XNn4VHiny",
        "outputId": "808730d9-7e61-4a4f-b1fd-4a953f385d40"
      },
      "source": [
        "model1.score(AGST, Price)"
      ],
      "execution_count": null,
      "outputs": [
        {
          "output_type": "execute_result",
          "data": {
            "text/plain": [
              "0.4455894017093736"
            ]
          },
          "metadata": {},
          "execution_count": 24
        }
      ]
    },
    {
      "cell_type": "code",
      "metadata": {
        "colab": {
          "base_uri": "https://localhost:8080/"
        },
        "id": "kk_l-73GJYSy",
        "outputId": "763cc581-78ff-413a-949e-385890c3b653"
      },
      "source": [
        "print(intercept)\n",
        "print(slope)"
      ],
      "execution_count": null,
      "outputs": [
        {
          "output_type": "stream",
          "name": "stdout",
          "text": [
            "-3.5469092693613256\n",
            "[0.64261426]\n"
          ]
        }
      ]
    },
    {
      "cell_type": "code",
      "metadata": {
        "id": "Oz8eqaifK7hB"
      },
      "source": [
        "wine_test = pd.read_csv(\"wine_test.csv\")"
      ],
      "execution_count": null,
      "outputs": []
    },
    {
      "cell_type": "code",
      "metadata": {
        "id": "sYur-2ErLb9B"
      },
      "source": [
        "X_test = wine_test.AGST.values.reshape((-1, 1))"
      ],
      "execution_count": null,
      "outputs": []
    },
    {
      "cell_type": "code",
      "metadata": {
        "id": "zodisJCrLDQJ"
      },
      "source": [
        "y_pred = model1.predict(X_test)"
      ],
      "execution_count": null,
      "outputs": []
    },
    {
      "cell_type": "code",
      "metadata": {
        "colab": {
          "base_uri": "https://localhost:8080/"
        },
        "id": "4ydz75lxL4cL",
        "outputId": "dbca64cd-3620-409f-ec1e-df6604cd27e1"
      },
      "source": [
        "print(y_pred)"
      ],
      "execution_count": null,
      "outputs": [
        {
          "output_type": "stream",
          "name": "stdout",
          "text": [
            "[6.84204275 6.73491895]\n"
          ]
        }
      ]
    },
    {
      "cell_type": "code",
      "metadata": {
        "colab": {
          "base_uri": "https://localhost:8080/",
          "height": 111
        },
        "id": "isfvTsOOL-Ux",
        "outputId": "e6608a4a-be92-40a8-cd34-2a62397a76f9"
      },
      "source": [
        "wine_test.head()"
      ],
      "execution_count": null,
      "outputs": [
        {
          "output_type": "execute_result",
          "data": {
            "text/html": [
              "<div>\n",
              "<style scoped>\n",
              "    .dataframe tbody tr th:only-of-type {\n",
              "        vertical-align: middle;\n",
              "    }\n",
              "\n",
              "    .dataframe tbody tr th {\n",
              "        vertical-align: top;\n",
              "    }\n",
              "\n",
              "    .dataframe thead th {\n",
              "        text-align: right;\n",
              "    }\n",
              "</style>\n",
              "<table border=\"1\" class=\"dataframe\">\n",
              "  <thead>\n",
              "    <tr style=\"text-align: right;\">\n",
              "      <th></th>\n",
              "      <th>Year</th>\n",
              "      <th>Price</th>\n",
              "      <th>WinterRain</th>\n",
              "      <th>AGST</th>\n",
              "      <th>HarvestRain</th>\n",
              "      <th>Age</th>\n",
              "      <th>FrancePop</th>\n",
              "    </tr>\n",
              "  </thead>\n",
              "  <tbody>\n",
              "    <tr>\n",
              "      <th>0</th>\n",
              "      <td>1979</td>\n",
              "      <td>6.9541</td>\n",
              "      <td>717</td>\n",
              "      <td>16.1667</td>\n",
              "      <td>122</td>\n",
              "      <td>4</td>\n",
              "      <td>54835.832</td>\n",
              "    </tr>\n",
              "    <tr>\n",
              "      <th>1</th>\n",
              "      <td>1980</td>\n",
              "      <td>6.4979</td>\n",
              "      <td>578</td>\n",
              "      <td>16.0000</td>\n",
              "      <td>74</td>\n",
              "      <td>3</td>\n",
              "      <td>55110.236</td>\n",
              "    </tr>\n",
              "  </tbody>\n",
              "</table>\n",
              "</div>"
            ],
            "text/plain": [
              "   Year   Price  WinterRain     AGST  HarvestRain  Age  FrancePop\n",
              "0  1979  6.9541         717  16.1667          122    4  54835.832\n",
              "1  1980  6.4979         578  16.0000           74    3  55110.236"
            ]
          },
          "metadata": {},
          "execution_count": 20
        }
      ]
    },
    {
      "cell_type": "code",
      "metadata": {
        "id": "5WYrTaQ3MPgJ"
      },
      "source": [
        "Y_target = wine_test.Price.values"
      ],
      "execution_count": null,
      "outputs": []
    },
    {
      "cell_type": "code",
      "metadata": {
        "colab": {
          "base_uri": "https://localhost:8080/"
        },
        "id": "W9S9dxA4OIeZ",
        "outputId": "6330c479-fc8b-41f0-e35d-6ca1a410d366"
      },
      "source": [
        "print(np.sqrt(metrics.mean_squared_error(Y_target, y_pred)))"
      ],
      "execution_count": null,
      "outputs": [
        {
          "output_type": "stream",
          "name": "stdout",
          "text": [
            "0.18538448048674194\n"
          ]
        }
      ]
    }
  ]
}